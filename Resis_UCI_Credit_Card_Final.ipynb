{
 "cells": [
  {
   "cell_type": "code",
   "execution_count": 1,
   "metadata": {},
   "outputs": [],
   "source": [
    "import pandas as pd\n",
    "import numpy as np\n",
    "import seaborn as sns\n",
    "import matplotlib.pyplot as plt\n",
    "%matplotlib inline\n",
    "import sqlite3\n",
    "import json\n",
    "import requests\n",
    "import time\n",
    "from bs4 import BeautifulSoup\n",
    "import re\n",
    "from numpy.random import normal\n",
    "from scipy.stats import kurtosis, skew\n",
    "import math\n",
    "from statsmodels.formula.api import ols\n",
    "from statsmodels.stats.outliers_influence import variance_inflation_factor\n",
    "import statsmodels.api as sm\n",
    "import scipy.stats as stats\n",
    "from sklearn.model_selection import train_test_split\n",
    "import warnings\n",
    "warnings.filterwarnings('ignore')\n",
    "df = pd.read_csv('UCI_Credit_Card.csv')"
   ]
  },
  {
   "cell_type": "code",
   "execution_count": 2,
   "metadata": {},
   "outputs": [
    {
     "data": {
      "text/html": [
       "<div>\n",
       "<style scoped>\n",
       "    .dataframe tbody tr th:only-of-type {\n",
       "        vertical-align: middle;\n",
       "    }\n",
       "\n",
       "    .dataframe tbody tr th {\n",
       "        vertical-align: top;\n",
       "    }\n",
       "\n",
       "    .dataframe thead th {\n",
       "        text-align: right;\n",
       "    }\n",
       "</style>\n",
       "<table border=\"1\" class=\"dataframe\">\n",
       "  <thead>\n",
       "    <tr style=\"text-align: right;\">\n",
       "      <th></th>\n",
       "      <th>ID</th>\n",
       "      <th>LIMIT_BAL</th>\n",
       "      <th>SEX</th>\n",
       "      <th>EDUCATION</th>\n",
       "      <th>MARRIAGE</th>\n",
       "      <th>AGE</th>\n",
       "      <th>PAY_0</th>\n",
       "      <th>PAY_2</th>\n",
       "      <th>PAY_3</th>\n",
       "      <th>PAY_4</th>\n",
       "      <th>...</th>\n",
       "      <th>BILL_AMT4</th>\n",
       "      <th>BILL_AMT5</th>\n",
       "      <th>BILL_AMT6</th>\n",
       "      <th>PAY_AMT1</th>\n",
       "      <th>PAY_AMT2</th>\n",
       "      <th>PAY_AMT3</th>\n",
       "      <th>PAY_AMT4</th>\n",
       "      <th>PAY_AMT5</th>\n",
       "      <th>PAY_AMT6</th>\n",
       "      <th>default.payment.next.month</th>\n",
       "    </tr>\n",
       "  </thead>\n",
       "  <tbody>\n",
       "    <tr>\n",
       "      <th>0</th>\n",
       "      <td>1</td>\n",
       "      <td>20000.0</td>\n",
       "      <td>2</td>\n",
       "      <td>2</td>\n",
       "      <td>1</td>\n",
       "      <td>24</td>\n",
       "      <td>2</td>\n",
       "      <td>2</td>\n",
       "      <td>-1</td>\n",
       "      <td>-1</td>\n",
       "      <td>...</td>\n",
       "      <td>0.0</td>\n",
       "      <td>0.0</td>\n",
       "      <td>0.0</td>\n",
       "      <td>0.0</td>\n",
       "      <td>689.0</td>\n",
       "      <td>0.0</td>\n",
       "      <td>0.0</td>\n",
       "      <td>0.0</td>\n",
       "      <td>0.0</td>\n",
       "      <td>1</td>\n",
       "    </tr>\n",
       "    <tr>\n",
       "      <th>1</th>\n",
       "      <td>2</td>\n",
       "      <td>120000.0</td>\n",
       "      <td>2</td>\n",
       "      <td>2</td>\n",
       "      <td>2</td>\n",
       "      <td>26</td>\n",
       "      <td>-1</td>\n",
       "      <td>2</td>\n",
       "      <td>0</td>\n",
       "      <td>0</td>\n",
       "      <td>...</td>\n",
       "      <td>3272.0</td>\n",
       "      <td>3455.0</td>\n",
       "      <td>3261.0</td>\n",
       "      <td>0.0</td>\n",
       "      <td>1000.0</td>\n",
       "      <td>1000.0</td>\n",
       "      <td>1000.0</td>\n",
       "      <td>0.0</td>\n",
       "      <td>2000.0</td>\n",
       "      <td>1</td>\n",
       "    </tr>\n",
       "    <tr>\n",
       "      <th>2</th>\n",
       "      <td>3</td>\n",
       "      <td>90000.0</td>\n",
       "      <td>2</td>\n",
       "      <td>2</td>\n",
       "      <td>2</td>\n",
       "      <td>34</td>\n",
       "      <td>0</td>\n",
       "      <td>0</td>\n",
       "      <td>0</td>\n",
       "      <td>0</td>\n",
       "      <td>...</td>\n",
       "      <td>14331.0</td>\n",
       "      <td>14948.0</td>\n",
       "      <td>15549.0</td>\n",
       "      <td>1518.0</td>\n",
       "      <td>1500.0</td>\n",
       "      <td>1000.0</td>\n",
       "      <td>1000.0</td>\n",
       "      <td>1000.0</td>\n",
       "      <td>5000.0</td>\n",
       "      <td>0</td>\n",
       "    </tr>\n",
       "    <tr>\n",
       "      <th>3</th>\n",
       "      <td>4</td>\n",
       "      <td>50000.0</td>\n",
       "      <td>2</td>\n",
       "      <td>2</td>\n",
       "      <td>1</td>\n",
       "      <td>37</td>\n",
       "      <td>0</td>\n",
       "      <td>0</td>\n",
       "      <td>0</td>\n",
       "      <td>0</td>\n",
       "      <td>...</td>\n",
       "      <td>28314.0</td>\n",
       "      <td>28959.0</td>\n",
       "      <td>29547.0</td>\n",
       "      <td>2000.0</td>\n",
       "      <td>2019.0</td>\n",
       "      <td>1200.0</td>\n",
       "      <td>1100.0</td>\n",
       "      <td>1069.0</td>\n",
       "      <td>1000.0</td>\n",
       "      <td>0</td>\n",
       "    </tr>\n",
       "    <tr>\n",
       "      <th>4</th>\n",
       "      <td>5</td>\n",
       "      <td>50000.0</td>\n",
       "      <td>1</td>\n",
       "      <td>2</td>\n",
       "      <td>1</td>\n",
       "      <td>57</td>\n",
       "      <td>-1</td>\n",
       "      <td>0</td>\n",
       "      <td>-1</td>\n",
       "      <td>0</td>\n",
       "      <td>...</td>\n",
       "      <td>20940.0</td>\n",
       "      <td>19146.0</td>\n",
       "      <td>19131.0</td>\n",
       "      <td>2000.0</td>\n",
       "      <td>36681.0</td>\n",
       "      <td>10000.0</td>\n",
       "      <td>9000.0</td>\n",
       "      <td>689.0</td>\n",
       "      <td>679.0</td>\n",
       "      <td>0</td>\n",
       "    </tr>\n",
       "  </tbody>\n",
       "</table>\n",
       "<p>5 rows × 25 columns</p>\n",
       "</div>"
      ],
      "text/plain": [
       "   ID  LIMIT_BAL  SEX  EDUCATION  MARRIAGE  AGE  PAY_0  PAY_2  PAY_3  PAY_4  \\\n",
       "0   1    20000.0    2          2         1   24      2      2     -1     -1   \n",
       "1   2   120000.0    2          2         2   26     -1      2      0      0   \n",
       "2   3    90000.0    2          2         2   34      0      0      0      0   \n",
       "3   4    50000.0    2          2         1   37      0      0      0      0   \n",
       "4   5    50000.0    1          2         1   57     -1      0     -1      0   \n",
       "\n",
       "   ...  BILL_AMT4  BILL_AMT5  BILL_AMT6  PAY_AMT1  PAY_AMT2  PAY_AMT3  \\\n",
       "0  ...        0.0        0.0        0.0       0.0     689.0       0.0   \n",
       "1  ...     3272.0     3455.0     3261.0       0.0    1000.0    1000.0   \n",
       "2  ...    14331.0    14948.0    15549.0    1518.0    1500.0    1000.0   \n",
       "3  ...    28314.0    28959.0    29547.0    2000.0    2019.0    1200.0   \n",
       "4  ...    20940.0    19146.0    19131.0    2000.0   36681.0   10000.0   \n",
       "\n",
       "   PAY_AMT4  PAY_AMT5  PAY_AMT6  default.payment.next.month  \n",
       "0       0.0       0.0       0.0                           1  \n",
       "1    1000.0       0.0    2000.0                           1  \n",
       "2    1000.0    1000.0    5000.0                           0  \n",
       "3    1100.0    1069.0    1000.0                           0  \n",
       "4    9000.0     689.0     679.0                           0  \n",
       "\n",
       "[5 rows x 25 columns]"
      ]
     },
     "execution_count": 2,
     "metadata": {},
     "output_type": "execute_result"
    }
   ],
   "source": [
    "df.head()"
   ]
  },
  {
   "cell_type": "code",
   "execution_count": 3,
   "metadata": {},
   "outputs": [
    {
     "name": "stdout",
     "output_type": "stream",
     "text": [
      "<class 'pandas.core.frame.DataFrame'>\n",
      "RangeIndex: 30000 entries, 0 to 29999\n",
      "Data columns (total 25 columns):\n",
      " #   Column                      Non-Null Count  Dtype  \n",
      "---  ------                      --------------  -----  \n",
      " 0   ID                          30000 non-null  int64  \n",
      " 1   LIMIT_BAL                   30000 non-null  float64\n",
      " 2   SEX                         30000 non-null  int64  \n",
      " 3   EDUCATION                   30000 non-null  int64  \n",
      " 4   MARRIAGE                    30000 non-null  int64  \n",
      " 5   AGE                         30000 non-null  int64  \n",
      " 6   PAY_0                       30000 non-null  int64  \n",
      " 7   PAY_2                       30000 non-null  int64  \n",
      " 8   PAY_3                       30000 non-null  int64  \n",
      " 9   PAY_4                       30000 non-null  int64  \n",
      " 10  PAY_5                       30000 non-null  int64  \n",
      " 11  PAY_6                       30000 non-null  int64  \n",
      " 12  BILL_AMT1                   30000 non-null  float64\n",
      " 13  BILL_AMT2                   30000 non-null  float64\n",
      " 14  BILL_AMT3                   30000 non-null  float64\n",
      " 15  BILL_AMT4                   30000 non-null  float64\n",
      " 16  BILL_AMT5                   30000 non-null  float64\n",
      " 17  BILL_AMT6                   30000 non-null  float64\n",
      " 18  PAY_AMT1                    30000 non-null  float64\n",
      " 19  PAY_AMT2                    30000 non-null  float64\n",
      " 20  PAY_AMT3                    30000 non-null  float64\n",
      " 21  PAY_AMT4                    30000 non-null  float64\n",
      " 22  PAY_AMT5                    30000 non-null  float64\n",
      " 23  PAY_AMT6                    30000 non-null  float64\n",
      " 24  default.payment.next.month  30000 non-null  int64  \n",
      "dtypes: float64(13), int64(12)\n",
      "memory usage: 5.7 MB\n"
     ]
    }
   ],
   "source": [
    "df.info()"
   ]
  },
  {
   "cell_type": "code",
   "execution_count": 4,
   "metadata": {},
   "outputs": [
    {
     "data": {
      "text/html": [
       "<div>\n",
       "<style scoped>\n",
       "    .dataframe tbody tr th:only-of-type {\n",
       "        vertical-align: middle;\n",
       "    }\n",
       "\n",
       "    .dataframe tbody tr th {\n",
       "        vertical-align: top;\n",
       "    }\n",
       "\n",
       "    .dataframe thead th {\n",
       "        text-align: right;\n",
       "    }\n",
       "</style>\n",
       "<table border=\"1\" class=\"dataframe\">\n",
       "  <thead>\n",
       "    <tr style=\"text-align: right;\">\n",
       "      <th></th>\n",
       "      <th>ID</th>\n",
       "      <th>LIMIT_BAL</th>\n",
       "      <th>SEX</th>\n",
       "      <th>EDUCATION</th>\n",
       "      <th>MARRIAGE</th>\n",
       "      <th>AGE</th>\n",
       "      <th>PAY_0</th>\n",
       "      <th>PAY_2</th>\n",
       "      <th>PAY_3</th>\n",
       "      <th>PAY_4</th>\n",
       "      <th>...</th>\n",
       "      <th>BILL_AMT4</th>\n",
       "      <th>BILL_AMT5</th>\n",
       "      <th>BILL_AMT6</th>\n",
       "      <th>PAY_AMT1</th>\n",
       "      <th>PAY_AMT2</th>\n",
       "      <th>PAY_AMT3</th>\n",
       "      <th>PAY_AMT4</th>\n",
       "      <th>PAY_AMT5</th>\n",
       "      <th>PAY_AMT6</th>\n",
       "      <th>default.payment.next.month</th>\n",
       "    </tr>\n",
       "  </thead>\n",
       "  <tbody>\n",
       "    <tr>\n",
       "      <th>count</th>\n",
       "      <td>30000.000000</td>\n",
       "      <td>30000.000000</td>\n",
       "      <td>30000.000000</td>\n",
       "      <td>30000.000000</td>\n",
       "      <td>30000.000000</td>\n",
       "      <td>30000.000000</td>\n",
       "      <td>30000.000000</td>\n",
       "      <td>30000.000000</td>\n",
       "      <td>30000.000000</td>\n",
       "      <td>30000.000000</td>\n",
       "      <td>...</td>\n",
       "      <td>30000.000000</td>\n",
       "      <td>30000.000000</td>\n",
       "      <td>30000.000000</td>\n",
       "      <td>30000.000000</td>\n",
       "      <td>3.000000e+04</td>\n",
       "      <td>30000.00000</td>\n",
       "      <td>30000.000000</td>\n",
       "      <td>30000.000000</td>\n",
       "      <td>30000.000000</td>\n",
       "      <td>30000.000000</td>\n",
       "    </tr>\n",
       "    <tr>\n",
       "      <th>mean</th>\n",
       "      <td>15000.500000</td>\n",
       "      <td>167484.322667</td>\n",
       "      <td>1.603733</td>\n",
       "      <td>1.853133</td>\n",
       "      <td>1.551867</td>\n",
       "      <td>35.485500</td>\n",
       "      <td>-0.016700</td>\n",
       "      <td>-0.133767</td>\n",
       "      <td>-0.166200</td>\n",
       "      <td>-0.220667</td>\n",
       "      <td>...</td>\n",
       "      <td>43262.948967</td>\n",
       "      <td>40311.400967</td>\n",
       "      <td>38871.760400</td>\n",
       "      <td>5663.580500</td>\n",
       "      <td>5.921163e+03</td>\n",
       "      <td>5225.68150</td>\n",
       "      <td>4826.076867</td>\n",
       "      <td>4799.387633</td>\n",
       "      <td>5215.502567</td>\n",
       "      <td>0.221200</td>\n",
       "    </tr>\n",
       "    <tr>\n",
       "      <th>std</th>\n",
       "      <td>8660.398374</td>\n",
       "      <td>129747.661567</td>\n",
       "      <td>0.489129</td>\n",
       "      <td>0.790349</td>\n",
       "      <td>0.521970</td>\n",
       "      <td>9.217904</td>\n",
       "      <td>1.123802</td>\n",
       "      <td>1.197186</td>\n",
       "      <td>1.196868</td>\n",
       "      <td>1.169139</td>\n",
       "      <td>...</td>\n",
       "      <td>64332.856134</td>\n",
       "      <td>60797.155770</td>\n",
       "      <td>59554.107537</td>\n",
       "      <td>16563.280354</td>\n",
       "      <td>2.304087e+04</td>\n",
       "      <td>17606.96147</td>\n",
       "      <td>15666.159744</td>\n",
       "      <td>15278.305679</td>\n",
       "      <td>17777.465775</td>\n",
       "      <td>0.415062</td>\n",
       "    </tr>\n",
       "    <tr>\n",
       "      <th>min</th>\n",
       "      <td>1.000000</td>\n",
       "      <td>10000.000000</td>\n",
       "      <td>1.000000</td>\n",
       "      <td>0.000000</td>\n",
       "      <td>0.000000</td>\n",
       "      <td>21.000000</td>\n",
       "      <td>-2.000000</td>\n",
       "      <td>-2.000000</td>\n",
       "      <td>-2.000000</td>\n",
       "      <td>-2.000000</td>\n",
       "      <td>...</td>\n",
       "      <td>-170000.000000</td>\n",
       "      <td>-81334.000000</td>\n",
       "      <td>-339603.000000</td>\n",
       "      <td>0.000000</td>\n",
       "      <td>0.000000e+00</td>\n",
       "      <td>0.00000</td>\n",
       "      <td>0.000000</td>\n",
       "      <td>0.000000</td>\n",
       "      <td>0.000000</td>\n",
       "      <td>0.000000</td>\n",
       "    </tr>\n",
       "    <tr>\n",
       "      <th>25%</th>\n",
       "      <td>7500.750000</td>\n",
       "      <td>50000.000000</td>\n",
       "      <td>1.000000</td>\n",
       "      <td>1.000000</td>\n",
       "      <td>1.000000</td>\n",
       "      <td>28.000000</td>\n",
       "      <td>-1.000000</td>\n",
       "      <td>-1.000000</td>\n",
       "      <td>-1.000000</td>\n",
       "      <td>-1.000000</td>\n",
       "      <td>...</td>\n",
       "      <td>2326.750000</td>\n",
       "      <td>1763.000000</td>\n",
       "      <td>1256.000000</td>\n",
       "      <td>1000.000000</td>\n",
       "      <td>8.330000e+02</td>\n",
       "      <td>390.00000</td>\n",
       "      <td>296.000000</td>\n",
       "      <td>252.500000</td>\n",
       "      <td>117.750000</td>\n",
       "      <td>0.000000</td>\n",
       "    </tr>\n",
       "    <tr>\n",
       "      <th>50%</th>\n",
       "      <td>15000.500000</td>\n",
       "      <td>140000.000000</td>\n",
       "      <td>2.000000</td>\n",
       "      <td>2.000000</td>\n",
       "      <td>2.000000</td>\n",
       "      <td>34.000000</td>\n",
       "      <td>0.000000</td>\n",
       "      <td>0.000000</td>\n",
       "      <td>0.000000</td>\n",
       "      <td>0.000000</td>\n",
       "      <td>...</td>\n",
       "      <td>19052.000000</td>\n",
       "      <td>18104.500000</td>\n",
       "      <td>17071.000000</td>\n",
       "      <td>2100.000000</td>\n",
       "      <td>2.009000e+03</td>\n",
       "      <td>1800.00000</td>\n",
       "      <td>1500.000000</td>\n",
       "      <td>1500.000000</td>\n",
       "      <td>1500.000000</td>\n",
       "      <td>0.000000</td>\n",
       "    </tr>\n",
       "    <tr>\n",
       "      <th>75%</th>\n",
       "      <td>22500.250000</td>\n",
       "      <td>240000.000000</td>\n",
       "      <td>2.000000</td>\n",
       "      <td>2.000000</td>\n",
       "      <td>2.000000</td>\n",
       "      <td>41.000000</td>\n",
       "      <td>0.000000</td>\n",
       "      <td>0.000000</td>\n",
       "      <td>0.000000</td>\n",
       "      <td>0.000000</td>\n",
       "      <td>...</td>\n",
       "      <td>54506.000000</td>\n",
       "      <td>50190.500000</td>\n",
       "      <td>49198.250000</td>\n",
       "      <td>5006.000000</td>\n",
       "      <td>5.000000e+03</td>\n",
       "      <td>4505.00000</td>\n",
       "      <td>4013.250000</td>\n",
       "      <td>4031.500000</td>\n",
       "      <td>4000.000000</td>\n",
       "      <td>0.000000</td>\n",
       "    </tr>\n",
       "    <tr>\n",
       "      <th>max</th>\n",
       "      <td>30000.000000</td>\n",
       "      <td>1000000.000000</td>\n",
       "      <td>2.000000</td>\n",
       "      <td>6.000000</td>\n",
       "      <td>3.000000</td>\n",
       "      <td>79.000000</td>\n",
       "      <td>8.000000</td>\n",
       "      <td>8.000000</td>\n",
       "      <td>8.000000</td>\n",
       "      <td>8.000000</td>\n",
       "      <td>...</td>\n",
       "      <td>891586.000000</td>\n",
       "      <td>927171.000000</td>\n",
       "      <td>961664.000000</td>\n",
       "      <td>873552.000000</td>\n",
       "      <td>1.684259e+06</td>\n",
       "      <td>896040.00000</td>\n",
       "      <td>621000.000000</td>\n",
       "      <td>426529.000000</td>\n",
       "      <td>528666.000000</td>\n",
       "      <td>1.000000</td>\n",
       "    </tr>\n",
       "  </tbody>\n",
       "</table>\n",
       "<p>8 rows × 25 columns</p>\n",
       "</div>"
      ],
      "text/plain": [
       "                 ID       LIMIT_BAL           SEX     EDUCATION      MARRIAGE  \\\n",
       "count  30000.000000    30000.000000  30000.000000  30000.000000  30000.000000   \n",
       "mean   15000.500000   167484.322667      1.603733      1.853133      1.551867   \n",
       "std     8660.398374   129747.661567      0.489129      0.790349      0.521970   \n",
       "min        1.000000    10000.000000      1.000000      0.000000      0.000000   \n",
       "25%     7500.750000    50000.000000      1.000000      1.000000      1.000000   \n",
       "50%    15000.500000   140000.000000      2.000000      2.000000      2.000000   \n",
       "75%    22500.250000   240000.000000      2.000000      2.000000      2.000000   \n",
       "max    30000.000000  1000000.000000      2.000000      6.000000      3.000000   \n",
       "\n",
       "                AGE         PAY_0         PAY_2         PAY_3         PAY_4  \\\n",
       "count  30000.000000  30000.000000  30000.000000  30000.000000  30000.000000   \n",
       "mean      35.485500     -0.016700     -0.133767     -0.166200     -0.220667   \n",
       "std        9.217904      1.123802      1.197186      1.196868      1.169139   \n",
       "min       21.000000     -2.000000     -2.000000     -2.000000     -2.000000   \n",
       "25%       28.000000     -1.000000     -1.000000     -1.000000     -1.000000   \n",
       "50%       34.000000      0.000000      0.000000      0.000000      0.000000   \n",
       "75%       41.000000      0.000000      0.000000      0.000000      0.000000   \n",
       "max       79.000000      8.000000      8.000000      8.000000      8.000000   \n",
       "\n",
       "       ...      BILL_AMT4      BILL_AMT5      BILL_AMT6       PAY_AMT1  \\\n",
       "count  ...   30000.000000   30000.000000   30000.000000   30000.000000   \n",
       "mean   ...   43262.948967   40311.400967   38871.760400    5663.580500   \n",
       "std    ...   64332.856134   60797.155770   59554.107537   16563.280354   \n",
       "min    ... -170000.000000  -81334.000000 -339603.000000       0.000000   \n",
       "25%    ...    2326.750000    1763.000000    1256.000000    1000.000000   \n",
       "50%    ...   19052.000000   18104.500000   17071.000000    2100.000000   \n",
       "75%    ...   54506.000000   50190.500000   49198.250000    5006.000000   \n",
       "max    ...  891586.000000  927171.000000  961664.000000  873552.000000   \n",
       "\n",
       "           PAY_AMT2      PAY_AMT3       PAY_AMT4       PAY_AMT5  \\\n",
       "count  3.000000e+04   30000.00000   30000.000000   30000.000000   \n",
       "mean   5.921163e+03    5225.68150    4826.076867    4799.387633   \n",
       "std    2.304087e+04   17606.96147   15666.159744   15278.305679   \n",
       "min    0.000000e+00       0.00000       0.000000       0.000000   \n",
       "25%    8.330000e+02     390.00000     296.000000     252.500000   \n",
       "50%    2.009000e+03    1800.00000    1500.000000    1500.000000   \n",
       "75%    5.000000e+03    4505.00000    4013.250000    4031.500000   \n",
       "max    1.684259e+06  896040.00000  621000.000000  426529.000000   \n",
       "\n",
       "            PAY_AMT6  default.payment.next.month  \n",
       "count   30000.000000                30000.000000  \n",
       "mean     5215.502567                    0.221200  \n",
       "std     17777.465775                    0.415062  \n",
       "min         0.000000                    0.000000  \n",
       "25%       117.750000                    0.000000  \n",
       "50%      1500.000000                    0.000000  \n",
       "75%      4000.000000                    0.000000  \n",
       "max    528666.000000                    1.000000  \n",
       "\n",
       "[8 rows x 25 columns]"
      ]
     },
     "execution_count": 4,
     "metadata": {},
     "output_type": "execute_result"
    }
   ],
   "source": [
    "df.describe()"
   ]
  },
  {
   "cell_type": "code",
   "execution_count": 5,
   "metadata": {},
   "outputs": [
    {
     "data": {
      "text/plain": [
       "default.payment.next.month    1.000000\n",
       "PAY_0                         0.324794\n",
       "PAY_2                         0.263551\n",
       "PAY_3                         0.235253\n",
       "PAY_4                         0.216614\n",
       "PAY_5                         0.204149\n",
       "PAY_6                         0.186866\n",
       "EDUCATION                     0.028006\n",
       "AGE                           0.013890\n",
       "BILL_AMT6                    -0.005372\n",
       "BILL_AMT5                    -0.006760\n",
       "BILL_AMT4                    -0.010156\n",
       "ID                           -0.013952\n",
       "BILL_AMT3                    -0.014076\n",
       "BILL_AMT2                    -0.014193\n",
       "BILL_AMT1                    -0.019644\n",
       "MARRIAGE                     -0.024339\n",
       "SEX                          -0.039961\n",
       "PAY_AMT6                     -0.053183\n",
       "PAY_AMT5                     -0.055124\n",
       "PAY_AMT3                     -0.056250\n",
       "PAY_AMT4                     -0.056827\n",
       "PAY_AMT2                     -0.058579\n",
       "PAY_AMT1                     -0.072929\n",
       "LIMIT_BAL                    -0.153520\n",
       "Name: default.payment.next.month, dtype: float64"
      ]
     },
     "execution_count": 5,
     "metadata": {},
     "output_type": "execute_result"
    }
   ],
   "source": [
    "df.corr()['default.payment.next.month'].sort_values(ascending=False)"
   ]
  },
  {
   "cell_type": "markdown",
   "metadata": {},
   "source": [
    "We can only see weak correlations between default.payment.next.month and the independent variables so far."
   ]
  },
  {
   "cell_type": "code",
   "execution_count": 6,
   "metadata": {},
   "outputs": [
    {
     "data": {
      "text/html": [
       "<div>\n",
       "<style scoped>\n",
       "    .dataframe tbody tr th:only-of-type {\n",
       "        vertical-align: middle;\n",
       "    }\n",
       "\n",
       "    .dataframe tbody tr th {\n",
       "        vertical-align: top;\n",
       "    }\n",
       "\n",
       "    .dataframe thead th {\n",
       "        text-align: right;\n",
       "    }\n",
       "</style>\n",
       "<table border=\"1\" class=\"dataframe\">\n",
       "  <thead>\n",
       "    <tr style=\"text-align: right;\">\n",
       "      <th></th>\n",
       "      <th>Correlation</th>\n",
       "    </tr>\n",
       "    <tr>\n",
       "      <th>Pairs</th>\n",
       "      <th></th>\n",
       "    </tr>\n",
       "  </thead>\n",
       "  <tbody>\n",
       "    <tr>\n",
       "      <th>(BILL_AMT1, BILL_AMT2)</th>\n",
       "      <td>0.951484</td>\n",
       "    </tr>\n",
       "    <tr>\n",
       "      <th>(BILL_AMT5, BILL_AMT6)</th>\n",
       "      <td>0.946197</td>\n",
       "    </tr>\n",
       "    <tr>\n",
       "      <th>(BILL_AMT5, BILL_AMT4)</th>\n",
       "      <td>0.940134</td>\n",
       "    </tr>\n",
       "    <tr>\n",
       "      <th>(BILL_AMT3, BILL_AMT2)</th>\n",
       "      <td>0.928326</td>\n",
       "    </tr>\n",
       "    <tr>\n",
       "      <th>(BILL_AMT4, BILL_AMT3)</th>\n",
       "      <td>0.923969</td>\n",
       "    </tr>\n",
       "    <tr>\n",
       "      <th>(BILL_AMT6, BILL_AMT4)</th>\n",
       "      <td>0.900941</td>\n",
       "    </tr>\n",
       "    <tr>\n",
       "      <th>(BILL_AMT2, BILL_AMT4)</th>\n",
       "      <td>0.892482</td>\n",
       "    </tr>\n",
       "    <tr>\n",
       "      <th>(BILL_AMT1, BILL_AMT3)</th>\n",
       "      <td>0.892279</td>\n",
       "    </tr>\n",
       "    <tr>\n",
       "      <th>(BILL_AMT3, BILL_AMT5)</th>\n",
       "      <td>0.883910</td>\n",
       "    </tr>\n",
       "    <tr>\n",
       "      <th>(BILL_AMT1, BILL_AMT4)</th>\n",
       "      <td>0.860272</td>\n",
       "    </tr>\n",
       "    <tr>\n",
       "      <th>(BILL_AMT5, BILL_AMT2)</th>\n",
       "      <td>0.859778</td>\n",
       "    </tr>\n",
       "    <tr>\n",
       "      <th>(BILL_AMT3, BILL_AMT6)</th>\n",
       "      <td>0.853320</td>\n",
       "    </tr>\n",
       "    <tr>\n",
       "      <th>(BILL_AMT2, BILL_AMT6)</th>\n",
       "      <td>0.831594</td>\n",
       "    </tr>\n",
       "    <tr>\n",
       "      <th>(BILL_AMT5, BILL_AMT1)</th>\n",
       "      <td>0.829779</td>\n",
       "    </tr>\n",
       "    <tr>\n",
       "      <th>(PAY_4, PAY_5)</th>\n",
       "      <td>0.819835</td>\n",
       "    </tr>\n",
       "    <tr>\n",
       "      <th>(PAY_6, PAY_5)</th>\n",
       "      <td>0.816900</td>\n",
       "    </tr>\n",
       "    <tr>\n",
       "      <th>(BILL_AMT6, BILL_AMT1)</th>\n",
       "      <td>0.802650</td>\n",
       "    </tr>\n",
       "    <tr>\n",
       "      <th>(PAY_3, PAY_4)</th>\n",
       "      <td>0.777359</td>\n",
       "    </tr>\n",
       "    <tr>\n",
       "      <th>(PAY_3, PAY_2)</th>\n",
       "      <td>0.766552</td>\n",
       "    </tr>\n",
       "  </tbody>\n",
       "</table>\n",
       "</div>"
      ],
      "text/plain": [
       "                        Correlation\n",
       "Pairs                              \n",
       "(BILL_AMT1, BILL_AMT2)     0.951484\n",
       "(BILL_AMT5, BILL_AMT6)     0.946197\n",
       "(BILL_AMT5, BILL_AMT4)     0.940134\n",
       "(BILL_AMT3, BILL_AMT2)     0.928326\n",
       "(BILL_AMT4, BILL_AMT3)     0.923969\n",
       "(BILL_AMT6, BILL_AMT4)     0.900941\n",
       "(BILL_AMT2, BILL_AMT4)     0.892482\n",
       "(BILL_AMT1, BILL_AMT3)     0.892279\n",
       "(BILL_AMT3, BILL_AMT5)     0.883910\n",
       "(BILL_AMT1, BILL_AMT4)     0.860272\n",
       "(BILL_AMT5, BILL_AMT2)     0.859778\n",
       "(BILL_AMT3, BILL_AMT6)     0.853320\n",
       "(BILL_AMT2, BILL_AMT6)     0.831594\n",
       "(BILL_AMT5, BILL_AMT1)     0.829779\n",
       "(PAY_4, PAY_5)             0.819835\n",
       "(PAY_6, PAY_5)             0.816900\n",
       "(BILL_AMT6, BILL_AMT1)     0.802650\n",
       "(PAY_3, PAY_4)             0.777359\n",
       "(PAY_3, PAY_2)             0.766552"
      ]
     },
     "execution_count": 6,
     "metadata": {},
     "output_type": "execute_result"
    }
   ],
   "source": [
    "df_pairs = df.corr().abs().stack().reset_index().sort_values(0, ascending=False)\n",
    "df_pairs['Pairs'] = list(zip(df_pairs.level_0, df_pairs.level_1))\n",
    "df_pairs.set_index(['Pairs'], inplace = True)\n",
    "df_pairs.drop(columns=['level_1', 'level_0'], inplace = True)\n",
    "df_pairs.columns = ['Correlation']\n",
    "df_pairs.drop_duplicates(inplace=True)\n",
    "df_pairs[(df_pairs.Correlation>.75) & (df_pairs.Correlation<1)]"
   ]
  },
  {
   "cell_type": "markdown",
   "metadata": {},
   "source": [
    "There are strong correlations elsewhere, suggesting there are many multicollinearity issues."
   ]
  },
  {
   "cell_type": "code",
   "execution_count": 7,
   "metadata": {},
   "outputs": [],
   "source": [
    "df.rename(columns={'default.payment.next.month': 'default_payment_next_month'},inplace=True)"
   ]
  },
  {
   "cell_type": "code",
   "execution_count": 8,
   "metadata": {},
   "outputs": [],
   "source": [
    "df.drop(columns=['ID'], inplace = True)"
   ]
  },
  {
   "cell_type": "code",
   "execution_count": 9,
   "metadata": {},
   "outputs": [
    {
     "data": {
      "text/html": [
       "<table class=\"simpletable\">\n",
       "<caption>OLS Regression Results</caption>\n",
       "<tr>\n",
       "  <th>Dep. Variable:</th>    <td>default_payment_next_month</td> <th>  R-squared:         </th> <td>   0.124</td> \n",
       "</tr>\n",
       "<tr>\n",
       "  <th>Model:</th>                        <td>OLS</td>            <th>  Adj. R-squared:    </th> <td>   0.123</td> \n",
       "</tr>\n",
       "<tr>\n",
       "  <th>Method:</th>                  <td>Least Squares</td>       <th>  F-statistic:       </th> <td>   184.5</td> \n",
       "</tr>\n",
       "<tr>\n",
       "  <th>Date:</th>                  <td>Tue, 15 Dec 2020</td>      <th>  Prob (F-statistic):</th>  <td>  0.00</td>  \n",
       "</tr>\n",
       "<tr>\n",
       "  <th>Time:</th>                      <td>14:44:39</td>          <th>  Log-Likelihood:    </th> <td> -14202.</td> \n",
       "</tr>\n",
       "<tr>\n",
       "  <th>No. Observations:</th>           <td> 30000</td>           <th>  AIC:               </th> <td>2.845e+04</td>\n",
       "</tr>\n",
       "<tr>\n",
       "  <th>Df Residuals:</th>               <td> 29976</td>           <th>  BIC:               </th> <td>2.865e+04</td>\n",
       "</tr>\n",
       "<tr>\n",
       "  <th>Df Model:</th>                   <td>    23</td>           <th>                     </th>     <td> </td>    \n",
       "</tr>\n",
       "<tr>\n",
       "  <th>Covariance Type:</th>           <td>nonrobust</td>         <th>                     </th>     <td> </td>    \n",
       "</tr>\n",
       "</table>\n",
       "<table class=\"simpletable\">\n",
       "<tr>\n",
       "      <td></td>         <th>coef</th>     <th>std err</th>      <th>t</th>      <th>P>|t|</th>  <th>[0.025</th>    <th>0.975]</th>  \n",
       "</tr>\n",
       "<tr>\n",
       "  <th>Intercept</th> <td>    0.3142</td> <td>    0.018</td> <td>   17.541</td> <td> 0.000</td> <td>    0.279</td> <td>    0.349</td>\n",
       "</tr>\n",
       "<tr>\n",
       "  <th>LIMIT_BAL</th> <td>-9.053e-08</td> <td> 2.16e-08</td> <td>   -4.193</td> <td> 0.000</td> <td>-1.33e-07</td> <td>-4.82e-08</td>\n",
       "</tr>\n",
       "<tr>\n",
       "  <th>SEX</th>       <td>   -0.0145</td> <td>    0.005</td> <td>   -3.130</td> <td> 0.002</td> <td>   -0.024</td> <td>   -0.005</td>\n",
       "</tr>\n",
       "<tr>\n",
       "  <th>EDUCATION</th> <td>   -0.0151</td> <td>    0.003</td> <td>   -5.022</td> <td> 0.000</td> <td>   -0.021</td> <td>   -0.009</td>\n",
       "</tr>\n",
       "<tr>\n",
       "  <th>MARRIAGE</th>  <td>   -0.0238</td> <td>    0.005</td> <td>   -4.996</td> <td> 0.000</td> <td>   -0.033</td> <td>   -0.014</td>\n",
       "</tr>\n",
       "<tr>\n",
       "  <th>AGE</th>       <td>    0.0014</td> <td>    0.000</td> <td>    5.128</td> <td> 0.000</td> <td>    0.001</td> <td>    0.002</td>\n",
       "</tr>\n",
       "<tr>\n",
       "  <th>PAY_0</th>     <td>    0.0957</td> <td>    0.003</td> <td>   34.596</td> <td> 0.000</td> <td>    0.090</td> <td>    0.101</td>\n",
       "</tr>\n",
       "<tr>\n",
       "  <th>PAY_2</th>     <td>    0.0195</td> <td>    0.003</td> <td>    5.828</td> <td> 0.000</td> <td>    0.013</td> <td>    0.026</td>\n",
       "</tr>\n",
       "<tr>\n",
       "  <th>PAY_3</th>     <td>    0.0117</td> <td>    0.004</td> <td>    3.256</td> <td> 0.001</td> <td>    0.005</td> <td>    0.019</td>\n",
       "</tr>\n",
       "<tr>\n",
       "  <th>PAY_4</th>     <td>    0.0034</td> <td>    0.004</td> <td>    0.846</td> <td> 0.398</td> <td>   -0.004</td> <td>    0.011</td>\n",
       "</tr>\n",
       "<tr>\n",
       "  <th>PAY_5</th>     <td>    0.0057</td> <td>    0.004</td> <td>    1.324</td> <td> 0.185</td> <td>   -0.003</td> <td>    0.014</td>\n",
       "</tr>\n",
       "<tr>\n",
       "  <th>PAY_6</th>     <td>    0.0008</td> <td>    0.004</td> <td>    0.225</td> <td> 0.822</td> <td>   -0.006</td> <td>    0.008</td>\n",
       "</tr>\n",
       "<tr>\n",
       "  <th>BILL_AMT1</th> <td>-6.225e-07</td> <td> 1.14e-07</td> <td>   -5.453</td> <td> 0.000</td> <td>-8.46e-07</td> <td>-3.99e-07</td>\n",
       "</tr>\n",
       "<tr>\n",
       "  <th>BILL_AMT2</th> <td> 1.587e-07</td> <td>  1.6e-07</td> <td>    0.990</td> <td> 0.322</td> <td>-1.56e-07</td> <td> 4.73e-07</td>\n",
       "</tr>\n",
       "<tr>\n",
       "  <th>BILL_AMT3</th> <td> 3.005e-08</td> <td> 1.51e-07</td> <td>    0.199</td> <td> 0.842</td> <td>-2.66e-07</td> <td> 3.26e-07</td>\n",
       "</tr>\n",
       "<tr>\n",
       "  <th>BILL_AMT4</th> <td>-6.793e-08</td> <td> 1.57e-07</td> <td>   -0.432</td> <td> 0.666</td> <td>-3.76e-07</td> <td>  2.4e-07</td>\n",
       "</tr>\n",
       "<tr>\n",
       "  <th>BILL_AMT5</th> <td>-2.049e-08</td> <td> 1.85e-07</td> <td>   -0.111</td> <td> 0.912</td> <td>-3.82e-07</td> <td> 3.41e-07</td>\n",
       "</tr>\n",
       "<tr>\n",
       "  <th>BILL_AMT6</th> <td> 1.153e-07</td> <td> 1.46e-07</td> <td>    0.789</td> <td> 0.430</td> <td>-1.71e-07</td> <td> 4.02e-07</td>\n",
       "</tr>\n",
       "<tr>\n",
       "  <th>PAY_AMT1</th>  <td>-7.437e-07</td> <td> 1.77e-07</td> <td>   -4.201</td> <td> 0.000</td> <td>-1.09e-06</td> <td>-3.97e-07</td>\n",
       "</tr>\n",
       "<tr>\n",
       "  <th>PAY_AMT2</th>  <td>-2.092e-07</td> <td> 1.46e-07</td> <td>   -1.436</td> <td> 0.151</td> <td>-4.95e-07</td> <td> 7.63e-08</td>\n",
       "</tr>\n",
       "<tr>\n",
       "  <th>PAY_AMT3</th>  <td>-2.874e-08</td> <td> 1.69e-07</td> <td>   -0.170</td> <td> 0.865</td> <td> -3.6e-07</td> <td> 3.02e-07</td>\n",
       "</tr>\n",
       "<tr>\n",
       "  <th>PAY_AMT4</th>  <td>-2.521e-07</td> <td> 1.84e-07</td> <td>   -1.371</td> <td> 0.170</td> <td>-6.13e-07</td> <td> 1.08e-07</td>\n",
       "</tr>\n",
       "<tr>\n",
       "  <th>PAY_AMT5</th>  <td> -3.41e-07</td> <td> 1.91e-07</td> <td>   -1.787</td> <td> 0.074</td> <td>-7.15e-07</td> <td>  3.3e-08</td>\n",
       "</tr>\n",
       "<tr>\n",
       "  <th>PAY_AMT6</th>  <td> -9.77e-08</td> <td> 1.37e-07</td> <td>   -0.716</td> <td> 0.474</td> <td>-3.65e-07</td> <td>  1.7e-07</td>\n",
       "</tr>\n",
       "</table>\n",
       "<table class=\"simpletable\">\n",
       "<tr>\n",
       "  <th>Omnibus:</th>       <td>4682.286</td> <th>  Durbin-Watson:     </th> <td>   2.013</td>\n",
       "</tr>\n",
       "<tr>\n",
       "  <th>Prob(Omnibus):</th>  <td> 0.000</td>  <th>  Jarque-Bera (JB):  </th> <td>7285.821</td>\n",
       "</tr>\n",
       "<tr>\n",
       "  <th>Skew:</th>           <td> 1.204</td>  <th>  Prob(JB):          </th> <td>    0.00</td>\n",
       "</tr>\n",
       "<tr>\n",
       "  <th>Kurtosis:</th>       <td> 3.178</td>  <th>  Cond. No.          </th> <td>2.10e+06</td>\n",
       "</tr>\n",
       "</table><br/><br/>Warnings:<br/>[1] Standard Errors assume that the covariance matrix of the errors is correctly specified.<br/>[2] The condition number is large, 2.1e+06. This might indicate that there are<br/>strong multicollinearity or other numerical problems."
      ],
      "text/plain": [
       "<class 'statsmodels.iolib.summary.Summary'>\n",
       "\"\"\"\n",
       "                                OLS Regression Results                                \n",
       "======================================================================================\n",
       "Dep. Variable:     default_payment_next_month   R-squared:                       0.124\n",
       "Model:                                    OLS   Adj. R-squared:                  0.123\n",
       "Method:                         Least Squares   F-statistic:                     184.5\n",
       "Date:                        Tue, 15 Dec 2020   Prob (F-statistic):               0.00\n",
       "Time:                                14:44:39   Log-Likelihood:                -14202.\n",
       "No. Observations:                       30000   AIC:                         2.845e+04\n",
       "Df Residuals:                           29976   BIC:                         2.865e+04\n",
       "Df Model:                                  23                                         \n",
       "Covariance Type:                    nonrobust                                         \n",
       "==============================================================================\n",
       "                 coef    std err          t      P>|t|      [0.025      0.975]\n",
       "------------------------------------------------------------------------------\n",
       "Intercept      0.3142      0.018     17.541      0.000       0.279       0.349\n",
       "LIMIT_BAL  -9.053e-08   2.16e-08     -4.193      0.000   -1.33e-07   -4.82e-08\n",
       "SEX           -0.0145      0.005     -3.130      0.002      -0.024      -0.005\n",
       "EDUCATION     -0.0151      0.003     -5.022      0.000      -0.021      -0.009\n",
       "MARRIAGE      -0.0238      0.005     -4.996      0.000      -0.033      -0.014\n",
       "AGE            0.0014      0.000      5.128      0.000       0.001       0.002\n",
       "PAY_0          0.0957      0.003     34.596      0.000       0.090       0.101\n",
       "PAY_2          0.0195      0.003      5.828      0.000       0.013       0.026\n",
       "PAY_3          0.0117      0.004      3.256      0.001       0.005       0.019\n",
       "PAY_4          0.0034      0.004      0.846      0.398      -0.004       0.011\n",
       "PAY_5          0.0057      0.004      1.324      0.185      -0.003       0.014\n",
       "PAY_6          0.0008      0.004      0.225      0.822      -0.006       0.008\n",
       "BILL_AMT1  -6.225e-07   1.14e-07     -5.453      0.000   -8.46e-07   -3.99e-07\n",
       "BILL_AMT2   1.587e-07    1.6e-07      0.990      0.322   -1.56e-07    4.73e-07\n",
       "BILL_AMT3   3.005e-08   1.51e-07      0.199      0.842   -2.66e-07    3.26e-07\n",
       "BILL_AMT4  -6.793e-08   1.57e-07     -0.432      0.666   -3.76e-07     2.4e-07\n",
       "BILL_AMT5  -2.049e-08   1.85e-07     -0.111      0.912   -3.82e-07    3.41e-07\n",
       "BILL_AMT6   1.153e-07   1.46e-07      0.789      0.430   -1.71e-07    4.02e-07\n",
       "PAY_AMT1   -7.437e-07   1.77e-07     -4.201      0.000   -1.09e-06   -3.97e-07\n",
       "PAY_AMT2   -2.092e-07   1.46e-07     -1.436      0.151   -4.95e-07    7.63e-08\n",
       "PAY_AMT3   -2.874e-08   1.69e-07     -0.170      0.865    -3.6e-07    3.02e-07\n",
       "PAY_AMT4   -2.521e-07   1.84e-07     -1.371      0.170   -6.13e-07    1.08e-07\n",
       "PAY_AMT5    -3.41e-07   1.91e-07     -1.787      0.074   -7.15e-07     3.3e-08\n",
       "PAY_AMT6    -9.77e-08   1.37e-07     -0.716      0.474   -3.65e-07     1.7e-07\n",
       "==============================================================================\n",
       "Omnibus:                     4682.286   Durbin-Watson:                   2.013\n",
       "Prob(Omnibus):                  0.000   Jarque-Bera (JB):             7285.821\n",
       "Skew:                           1.204   Prob(JB):                         0.00\n",
       "Kurtosis:                       3.178   Cond. No.                     2.10e+06\n",
       "==============================================================================\n",
       "\n",
       "Warnings:\n",
       "[1] Standard Errors assume that the covariance matrix of the errors is correctly specified.\n",
       "[2] The condition number is large, 2.1e+06. This might indicate that there are\n",
       "strong multicollinearity or other numerical problems.\n",
       "\"\"\""
      ]
     },
     "execution_count": 9,
     "metadata": {},
     "output_type": "execute_result"
    }
   ],
   "source": [
    "outcome='default_payment_next_month'\n",
    "cols=[col for col in df.columns]\n",
    "cols.remove('default_payment_next_month')\n",
    "predictors='+'.join(cols)\n",
    "formula=outcome+'~'+predictors\n",
    "model=ols(formula=formula,data=df).fit()\n",
    "model.summary()"
   ]
  },
  {
   "cell_type": "markdown",
   "metadata": {},
   "source": [
    "A linear regression will not work, since the only possibilities for the target variable are true (1) and false (0)."
   ]
  },
  {
   "cell_type": "code",
   "execution_count": 10,
   "metadata": {},
   "outputs": [
    {
     "data": {
      "text/plain": [
       "0    23364\n",
       "1     6636\n",
       "Name: default_payment_next_month, dtype: int64"
      ]
     },
     "execution_count": 10,
     "metadata": {},
     "output_type": "execute_result"
    }
   ],
   "source": [
    "df['default_payment_next_month'].value_counts()"
   ]
  },
  {
   "cell_type": "markdown",
   "metadata": {},
   "source": [
    "In 23,364 out of 30,000 (~78%) cases, there is not a default payment next month.\n",
    "If we randomly guess that all of them are negative, we will be accurate about 78% of the time, but that would be a very suboptimal model."
   ]
  },
  {
   "cell_type": "code",
   "execution_count": 11,
   "metadata": {},
   "outputs": [
    {
     "data": {
      "text/plain": [
       "(30000, 9)"
      ]
     },
     "execution_count": 11,
     "metadata": {},
     "output_type": "execute_result"
    }
   ],
   "source": [
    "# Create dummy variables\n",
    "relevant_columns = ['SEX','EDUCATION','MARRIAGE','default_payment_next_month','AGE','PAY_0','BILL_AMT1','PAY_AMT1','LIMIT_BAL']\n",
    "dummy_dataframe = pd.get_dummies(df[relevant_columns], drop_first=True, dtype=float)\n",
    "\n",
    "dummy_dataframe.shape"
   ]
  },
  {
   "cell_type": "code",
   "execution_count": 12,
   "metadata": {},
   "outputs": [
    {
     "data": {
      "text/plain": [
       "(30000, 9)"
      ]
     },
     "execution_count": 12,
     "metadata": {},
     "output_type": "execute_result"
    }
   ],
   "source": [
    "# Drop missing rows\n",
    "dummy_dataframe = dummy_dataframe.dropna()\n",
    "dummy_dataframe.shape"
   ]
  },
  {
   "cell_type": "code",
   "execution_count": 13,
   "metadata": {},
   "outputs": [],
   "source": [
    "# Split the data into X and y\n",
    "y = dummy_dataframe['default_payment_next_month']\n",
    "X = dummy_dataframe.drop(columns=['default_payment_next_month'], axis=1)"
   ]
  },
  {
   "cell_type": "code",
   "execution_count": 14,
   "metadata": {},
   "outputs": [
    {
     "name": "stdout",
     "output_type": "stream",
     "text": [
      "Optimization terminated successfully.\n",
      "         Current function value: 0.468806\n",
      "         Iterations 7\n"
     ]
    }
   ],
   "source": [
    "# Build a logistic regression model using statsmodels\n",
    "import statsmodels.api as sm\n",
    "X = sm.tools.add_constant(X)\n",
    "logit_model = sm.Logit(y, X)\n",
    "result = logit_model.fit()"
   ]
  },
  {
   "cell_type": "code",
   "execution_count": 15,
   "metadata": {},
   "outputs": [
    {
     "data": {
      "text/html": [
       "<table class=\"simpletable\">\n",
       "<caption>Logit Regression Results</caption>\n",
       "<tr>\n",
       "  <th>Dep. Variable:</th>   <td>default_payment_next_month</td> <th>  No. Observations:  </th>  <td> 30000</td> \n",
       "</tr>\n",
       "<tr>\n",
       "  <th>Model:</th>                      <td>Logit</td>           <th>  Df Residuals:      </th>  <td> 29991</td> \n",
       "</tr>\n",
       "<tr>\n",
       "  <th>Method:</th>                      <td>MLE</td>            <th>  Df Model:          </th>  <td>     8</td> \n",
       "</tr>\n",
       "<tr>\n",
       "  <th>Date:</th>                 <td>Tue, 15 Dec 2020</td>      <th>  Pseudo R-squ.:     </th>  <td>0.1128</td> \n",
       "</tr>\n",
       "<tr>\n",
       "  <th>Time:</th>                     <td>14:44:40</td>          <th>  Log-Likelihood:    </th> <td> -14064.</td>\n",
       "</tr>\n",
       "<tr>\n",
       "  <th>converged:</th>                  <td>True</td>            <th>  LL-Null:           </th> <td> -15853.</td>\n",
       "</tr>\n",
       "<tr>\n",
       "  <th>Covariance Type:</th>          <td>nonrobust</td>         <th>  LLR p-value:       </th>  <td> 0.000</td> \n",
       "</tr>\n",
       "</table>\n",
       "<table class=\"simpletable\">\n",
       "<tr>\n",
       "      <td></td>         <th>coef</th>     <th>std err</th>      <th>z</th>      <th>P>|z|</th>  <th>[0.025</th>    <th>0.975]</th>  \n",
       "</tr>\n",
       "<tr>\n",
       "  <th>const</th>     <td>   -0.6625</td> <td>    0.118</td> <td>   -5.629</td> <td> 0.000</td> <td>   -0.893</td> <td>   -0.432</td>\n",
       "</tr>\n",
       "<tr>\n",
       "  <th>SEX</th>       <td>   -0.1186</td> <td>    0.030</td> <td>   -3.891</td> <td> 0.000</td> <td>   -0.178</td> <td>   -0.059</td>\n",
       "</tr>\n",
       "<tr>\n",
       "  <th>EDUCATION</th> <td>   -0.0971</td> <td>    0.021</td> <td>   -4.696</td> <td> 0.000</td> <td>   -0.138</td> <td>   -0.057</td>\n",
       "</tr>\n",
       "<tr>\n",
       "  <th>MARRIAGE</th>  <td>   -0.1625</td> <td>    0.032</td> <td>   -5.157</td> <td> 0.000</td> <td>   -0.224</td> <td>   -0.101</td>\n",
       "</tr>\n",
       "<tr>\n",
       "  <th>AGE</th>       <td>    0.0071</td> <td>    0.002</td> <td>    3.997</td> <td> 0.000</td> <td>    0.004</td> <td>    0.011</td>\n",
       "</tr>\n",
       "<tr>\n",
       "  <th>PAY_0</th>     <td>    0.6994</td> <td>    0.015</td> <td>   47.038</td> <td> 0.000</td> <td>    0.670</td> <td>    0.729</td>\n",
       "</tr>\n",
       "<tr>\n",
       "  <th>BILL_AMT1</th> <td>-1.227e-06</td> <td> 2.47e-07</td> <td>   -4.962</td> <td> 0.000</td> <td>-1.71e-06</td> <td>-7.42e-07</td>\n",
       "</tr>\n",
       "<tr>\n",
       "  <th>PAY_AMT1</th>  <td>-1.314e-05</td> <td> 2.03e-06</td> <td>   -6.457</td> <td> 0.000</td> <td>-1.71e-05</td> <td>-9.15e-06</td>\n",
       "</tr>\n",
       "<tr>\n",
       "  <th>LIMIT_BAL</th> <td>-1.568e-06</td> <td> 1.46e-07</td> <td>  -10.712</td> <td> 0.000</td> <td>-1.86e-06</td> <td>-1.28e-06</td>\n",
       "</tr>\n",
       "</table>"
      ],
      "text/plain": [
       "<class 'statsmodels.iolib.summary.Summary'>\n",
       "\"\"\"\n",
       "                               Logit Regression Results                               \n",
       "======================================================================================\n",
       "Dep. Variable:     default_payment_next_month   No. Observations:                30000\n",
       "Model:                                  Logit   Df Residuals:                    29991\n",
       "Method:                                   MLE   Df Model:                            8\n",
       "Date:                        Tue, 15 Dec 2020   Pseudo R-squ.:                  0.1128\n",
       "Time:                                14:44:40   Log-Likelihood:                -14064.\n",
       "converged:                               True   LL-Null:                       -15853.\n",
       "Covariance Type:                    nonrobust   LLR p-value:                     0.000\n",
       "==============================================================================\n",
       "                 coef    std err          z      P>|z|      [0.025      0.975]\n",
       "------------------------------------------------------------------------------\n",
       "const         -0.6625      0.118     -5.629      0.000      -0.893      -0.432\n",
       "SEX           -0.1186      0.030     -3.891      0.000      -0.178      -0.059\n",
       "EDUCATION     -0.0971      0.021     -4.696      0.000      -0.138      -0.057\n",
       "MARRIAGE      -0.1625      0.032     -5.157      0.000      -0.224      -0.101\n",
       "AGE            0.0071      0.002      3.997      0.000       0.004       0.011\n",
       "PAY_0          0.6994      0.015     47.038      0.000       0.670       0.729\n",
       "BILL_AMT1  -1.227e-06   2.47e-07     -4.962      0.000   -1.71e-06   -7.42e-07\n",
       "PAY_AMT1   -1.314e-05   2.03e-06     -6.457      0.000   -1.71e-05   -9.15e-06\n",
       "LIMIT_BAL  -1.568e-06   1.46e-07    -10.712      0.000   -1.86e-06   -1.28e-06\n",
       "==============================================================================\n",
       "\"\"\""
      ]
     },
     "execution_count": 15,
     "metadata": {},
     "output_type": "execute_result"
    }
   ],
   "source": [
    "result.summary()"
   ]
  },
  {
   "cell_type": "code",
   "execution_count": 16,
   "metadata": {
    "scrolled": true
   },
   "outputs": [
    {
     "data": {
      "text/html": [
       "<div>\n",
       "<style scoped>\n",
       "    .dataframe tbody tr th:only-of-type {\n",
       "        vertical-align: middle;\n",
       "    }\n",
       "\n",
       "    .dataframe tbody tr th {\n",
       "        vertical-align: top;\n",
       "    }\n",
       "\n",
       "    .dataframe thead th {\n",
       "        text-align: right;\n",
       "    }\n",
       "</style>\n",
       "<table border=\"1\" class=\"dataframe\">\n",
       "  <thead>\n",
       "    <tr style=\"text-align: right;\">\n",
       "      <th></th>\n",
       "      <th>SEX</th>\n",
       "      <th>EDUCATION</th>\n",
       "      <th>MARRIAGE</th>\n",
       "      <th>default_payment_next_month</th>\n",
       "      <th>AGE</th>\n",
       "      <th>PAY_0</th>\n",
       "      <th>BILL_AMT1</th>\n",
       "      <th>PAY_AMT1</th>\n",
       "      <th>LIMIT_BAL</th>\n",
       "    </tr>\n",
       "  </thead>\n",
       "  <tbody>\n",
       "    <tr>\n",
       "      <th>0</th>\n",
       "      <td>2</td>\n",
       "      <td>2</td>\n",
       "      <td>1</td>\n",
       "      <td>1</td>\n",
       "      <td>24</td>\n",
       "      <td>2</td>\n",
       "      <td>3913.0</td>\n",
       "      <td>0.0</td>\n",
       "      <td>20000.0</td>\n",
       "    </tr>\n",
       "    <tr>\n",
       "      <th>1</th>\n",
       "      <td>2</td>\n",
       "      <td>2</td>\n",
       "      <td>2</td>\n",
       "      <td>1</td>\n",
       "      <td>26</td>\n",
       "      <td>-1</td>\n",
       "      <td>2682.0</td>\n",
       "      <td>0.0</td>\n",
       "      <td>120000.0</td>\n",
       "    </tr>\n",
       "    <tr>\n",
       "      <th>2</th>\n",
       "      <td>2</td>\n",
       "      <td>2</td>\n",
       "      <td>2</td>\n",
       "      <td>0</td>\n",
       "      <td>34</td>\n",
       "      <td>0</td>\n",
       "      <td>29239.0</td>\n",
       "      <td>1518.0</td>\n",
       "      <td>90000.0</td>\n",
       "    </tr>\n",
       "    <tr>\n",
       "      <th>3</th>\n",
       "      <td>2</td>\n",
       "      <td>2</td>\n",
       "      <td>1</td>\n",
       "      <td>0</td>\n",
       "      <td>37</td>\n",
       "      <td>0</td>\n",
       "      <td>46990.0</td>\n",
       "      <td>2000.0</td>\n",
       "      <td>50000.0</td>\n",
       "    </tr>\n",
       "    <tr>\n",
       "      <th>4</th>\n",
       "      <td>1</td>\n",
       "      <td>2</td>\n",
       "      <td>1</td>\n",
       "      <td>0</td>\n",
       "      <td>57</td>\n",
       "      <td>-1</td>\n",
       "      <td>8617.0</td>\n",
       "      <td>2000.0</td>\n",
       "      <td>50000.0</td>\n",
       "    </tr>\n",
       "    <tr>\n",
       "      <th>5</th>\n",
       "      <td>1</td>\n",
       "      <td>1</td>\n",
       "      <td>2</td>\n",
       "      <td>0</td>\n",
       "      <td>37</td>\n",
       "      <td>0</td>\n",
       "      <td>64400.0</td>\n",
       "      <td>2500.0</td>\n",
       "      <td>50000.0</td>\n",
       "    </tr>\n",
       "    <tr>\n",
       "      <th>6</th>\n",
       "      <td>1</td>\n",
       "      <td>1</td>\n",
       "      <td>2</td>\n",
       "      <td>0</td>\n",
       "      <td>29</td>\n",
       "      <td>0</td>\n",
       "      <td>367965.0</td>\n",
       "      <td>55000.0</td>\n",
       "      <td>500000.0</td>\n",
       "    </tr>\n",
       "    <tr>\n",
       "      <th>7</th>\n",
       "      <td>2</td>\n",
       "      <td>2</td>\n",
       "      <td>2</td>\n",
       "      <td>0</td>\n",
       "      <td>23</td>\n",
       "      <td>0</td>\n",
       "      <td>11876.0</td>\n",
       "      <td>380.0</td>\n",
       "      <td>100000.0</td>\n",
       "    </tr>\n",
       "    <tr>\n",
       "      <th>8</th>\n",
       "      <td>2</td>\n",
       "      <td>3</td>\n",
       "      <td>1</td>\n",
       "      <td>0</td>\n",
       "      <td>28</td>\n",
       "      <td>0</td>\n",
       "      <td>11285.0</td>\n",
       "      <td>3329.0</td>\n",
       "      <td>140000.0</td>\n",
       "    </tr>\n",
       "    <tr>\n",
       "      <th>9</th>\n",
       "      <td>1</td>\n",
       "      <td>3</td>\n",
       "      <td>2</td>\n",
       "      <td>0</td>\n",
       "      <td>35</td>\n",
       "      <td>-2</td>\n",
       "      <td>0.0</td>\n",
       "      <td>0.0</td>\n",
       "      <td>20000.0</td>\n",
       "    </tr>\n",
       "  </tbody>\n",
       "</table>\n",
       "</div>"
      ],
      "text/plain": [
       "   SEX  EDUCATION  MARRIAGE  default_payment_next_month  AGE  PAY_0  \\\n",
       "0    2          2         1                           1   24      2   \n",
       "1    2          2         2                           1   26     -1   \n",
       "2    2          2         2                           0   34      0   \n",
       "3    2          2         1                           0   37      0   \n",
       "4    1          2         1                           0   57     -1   \n",
       "5    1          1         2                           0   37      0   \n",
       "6    1          1         2                           0   29      0   \n",
       "7    2          2         2                           0   23      0   \n",
       "8    2          3         1                           0   28      0   \n",
       "9    1          3         2                           0   35     -2   \n",
       "\n",
       "   BILL_AMT1  PAY_AMT1  LIMIT_BAL  \n",
       "0     3913.0       0.0    20000.0  \n",
       "1     2682.0       0.0   120000.0  \n",
       "2    29239.0    1518.0    90000.0  \n",
       "3    46990.0    2000.0    50000.0  \n",
       "4     8617.0    2000.0    50000.0  \n",
       "5    64400.0    2500.0    50000.0  \n",
       "6   367965.0   55000.0   500000.0  \n",
       "7    11876.0     380.0   100000.0  \n",
       "8    11285.0    3329.0   140000.0  \n",
       "9        0.0       0.0    20000.0  "
      ]
     },
     "execution_count": 16,
     "metadata": {},
     "output_type": "execute_result"
    }
   ],
   "source": [
    "dummy_dataframe.head(10)"
   ]
  },
  {
   "cell_type": "code",
   "execution_count": 17,
   "metadata": {},
   "outputs": [
    {
     "name": "stdout",
     "output_type": "stream",
     "text": [
      "AUC: 0.6241835808539503\n"
     ]
    },
    {
     "data": {
      "image/png": "[encoded data removed]",
      "text/plain": [
       "<Figure size 720x576 with 1 Axes>"
      ]
     },
     "metadata": {
      "needs_background": "light"
     },
     "output_type": "display_data"
    }
   ],
   "source": [
    "import itertools\n",
    "from sklearn.linear_model import LogisticRegression\n",
    "from sklearn.metrics import roc_curve, auc\n",
    "\n",
    "logreg = LogisticRegression(fit_intercept=False, solver='liblinear')\n",
    "\n",
    "# Split the data into a training and a test set\n",
    "X_train, X_test, y_train, y_test = train_test_split(X, y, random_state=0)\n",
    "# Probability scores for test set\n",
    "y_score = logreg.fit(X_train, y_train).decision_function(X_test)\n",
    "# False positive rate and true positive rate\n",
    "fpr, tpr, thresholds = roc_curve(y_test, y_score)\n",
    "\n",
    "\n",
    "# Print AUC\n",
    "print('AUC: {}'.format(auc(fpr, tpr)))\n",
    "\n",
    "# Plot the ROC curve\n",
    "plt.figure(figsize=(10, 8))\n",
    "lw = 2\n",
    "plt.plot(fpr, tpr, color='darkorange',\n",
    "         lw=lw, label='ROC curve')\n",
    "plt.plot([0, 1], [0, 1], color='navy', lw=lw, linestyle='--')\n",
    "plt.xlim([0, 1])\n",
    "plt.ylim([0, 1])\n",
    "\n",
    "plt.xlabel('False Positive Rate')\n",
    "plt.ylabel('True Positive Rate')\n",
    "plt.title('Receiver operating characteristic (ROC) Curve')\n",
    "plt.legend(loc='lower right')\n",
    "plt.show()"
   ]
  },
  {
   "cell_type": "code",
   "execution_count": 18,
   "metadata": {},
   "outputs": [
    {
     "name": "stdout",
     "output_type": "stream",
     "text": [
      "0    17496\n",
      "1     5004\n",
      "Name: default_payment_next_month, dtype: int64\n"
     ]
    }
   ],
   "source": [
    "# Previous original class distribution\n",
    "print(y_train.value_counts()) "
   ]
  },
  {
   "cell_type": "code",
   "execution_count": 19,
   "metadata": {},
   "outputs": [],
   "source": [
    "#The genders are set to male=1 and female=2. By changing 2's to 0's, we set up a true/false, or 1/0 outcome.\n",
    "dummy_dataframe['SEX'] = dummy_dataframe['SEX'].replace([2],0)"
   ]
  },
  {
   "cell_type": "code",
   "execution_count": 20,
   "metadata": {},
   "outputs": [
    {
     "data": {
      "text/plain": [
       "2    14030\n",
       "1    10585\n",
       "3     4917\n",
       "5      280\n",
       "4      123\n",
       "6       51\n",
       "0       14\n",
       "Name: EDUCATION, dtype: int64"
      ]
     },
     "execution_count": 20,
     "metadata": {},
     "output_type": "execute_result"
    }
   ],
   "source": [
    "dummy_dataframe['EDUCATION'].value_counts()"
   ]
  },
  {
   "cell_type": "code",
   "execution_count": 21,
   "metadata": {},
   "outputs": [],
   "source": [
    "#The education levels are set to graduate school=1, university=2, high school=3,\n",
    "#other=4, unknown=5/6. We would like 1's to indicate at least a university education and\n",
    "#0's to indicate less than a university education.\n",
    "dummy_dataframe['EDUCATION'] = dummy_dataframe['EDUCATION'].replace([2],1)\n",
    "dummy_dataframe['EDUCATION'] = dummy_dataframe['EDUCATION'].replace([3],0)\n",
    "dummy_dataframe['EDUCATION'] = dummy_dataframe['EDUCATION'].replace([4],0)\n",
    "dummy_dataframe['EDUCATION'] = dummy_dataframe['EDUCATION'].replace([5],0)\n",
    "dummy_dataframe['EDUCATION'] = dummy_dataframe['EDUCATION'].replace([6],0)"
   ]
  },
  {
   "cell_type": "code",
   "execution_count": 22,
   "metadata": {},
   "outputs": [
    {
     "data": {
      "text/plain": [
       "2    15964\n",
       "1    13659\n",
       "3      323\n",
       "0       54\n",
       "Name: MARRIAGE, dtype: int64"
      ]
     },
     "execution_count": 22,
     "metadata": {},
     "output_type": "execute_result"
    }
   ],
   "source": [
    "dummy_dataframe['MARRIAGE'].value_counts()"
   ]
  },
  {
   "cell_type": "code",
   "execution_count": 23,
   "metadata": {},
   "outputs": [],
   "source": [
    "#The marriage categories are set to 1=married, 2=single, 3=other.\n",
    "#We would like 1's to indicate married and 0's to indicate not married.\n",
    "dummy_dataframe['MARRIAGE'] = dummy_dataframe['MARRIAGE'].replace([2],0)\n",
    "dummy_dataframe['MARRIAGE'] = dummy_dataframe['MARRIAGE'].replace([3],0)"
   ]
  },
  {
   "cell_type": "code",
   "execution_count": 24,
   "metadata": {},
   "outputs": [
    {
     "data": {
      "text/plain": [
       " 0    14737\n",
       "-1     5686\n",
       " 1     3688\n",
       "-2     2759\n",
       " 2     2667\n",
       " 3      322\n",
       " 4       76\n",
       " 5       26\n",
       " 8       19\n",
       " 6       11\n",
       " 7        9\n",
       "Name: PAY_0, dtype: int64"
      ]
     },
     "execution_count": 24,
     "metadata": {},
     "output_type": "execute_result"
    }
   ],
   "source": [
    "dummy_dataframe['PAY_0'].value_counts()"
   ]
  },
  {
   "cell_type": "code",
   "execution_count": 25,
   "metadata": {},
   "outputs": [],
   "source": [
    "#0 and -1 PAY_0 mean that the payment was made on time. We want on-time payments to have a 1 PAY_0,\n",
    "#and all remaining PAY_0 values should be converted to 0.\n",
    "dummy_dataframe['PAY_0'] = dummy_dataframe['PAY_0'].replace([1],3)"
   ]
  },
  {
   "cell_type": "code",
   "execution_count": 26,
   "metadata": {},
   "outputs": [],
   "source": [
    "dummy_dataframe['PAY_0'] = dummy_dataframe['PAY_0'].replace([0],1)"
   ]
  },
  {
   "cell_type": "code",
   "execution_count": 27,
   "metadata": {},
   "outputs": [
    {
     "data": {
      "text/html": [
       "<div>\n",
       "<style scoped>\n",
       "    .dataframe tbody tr th:only-of-type {\n",
       "        vertical-align: middle;\n",
       "    }\n",
       "\n",
       "    .dataframe tbody tr th {\n",
       "        vertical-align: top;\n",
       "    }\n",
       "\n",
       "    .dataframe thead th {\n",
       "        text-align: right;\n",
       "    }\n",
       "</style>\n",
       "<table border=\"1\" class=\"dataframe\">\n",
       "  <thead>\n",
       "    <tr style=\"text-align: right;\">\n",
       "      <th></th>\n",
       "      <th>SEX</th>\n",
       "      <th>EDUCATION</th>\n",
       "      <th>MARRIAGE</th>\n",
       "      <th>default_payment_next_month</th>\n",
       "      <th>AGE</th>\n",
       "      <th>PAY_0</th>\n",
       "      <th>BILL_AMT1</th>\n",
       "      <th>PAY_AMT1</th>\n",
       "      <th>LIMIT_BAL</th>\n",
       "    </tr>\n",
       "  </thead>\n",
       "  <tbody>\n",
       "    <tr>\n",
       "      <th>count</th>\n",
       "      <td>30000.000000</td>\n",
       "      <td>30000.000000</td>\n",
       "      <td>30000.000000</td>\n",
       "      <td>30000.000000</td>\n",
       "      <td>30000.000000</td>\n",
       "      <td>30000.000000</td>\n",
       "      <td>30000.000000</td>\n",
       "      <td>30000.000000</td>\n",
       "      <td>30000.000000</td>\n",
       "    </tr>\n",
       "    <tr>\n",
       "      <th>mean</th>\n",
       "      <td>0.396267</td>\n",
       "      <td>0.820500</td>\n",
       "      <td>0.455300</td>\n",
       "      <td>0.221200</td>\n",
       "      <td>35.485500</td>\n",
       "      <td>0.720400</td>\n",
       "      <td>51223.330900</td>\n",
       "      <td>5663.580500</td>\n",
       "      <td>167484.322667</td>\n",
       "    </tr>\n",
       "    <tr>\n",
       "      <th>std</th>\n",
       "      <td>0.489129</td>\n",
       "      <td>0.383777</td>\n",
       "      <td>0.498006</td>\n",
       "      <td>0.415062</td>\n",
       "      <td>9.217904</td>\n",
       "      <td>1.489619</td>\n",
       "      <td>73635.860576</td>\n",
       "      <td>16563.280354</td>\n",
       "      <td>129747.661567</td>\n",
       "    </tr>\n",
       "    <tr>\n",
       "      <th>min</th>\n",
       "      <td>0.000000</td>\n",
       "      <td>0.000000</td>\n",
       "      <td>0.000000</td>\n",
       "      <td>0.000000</td>\n",
       "      <td>21.000000</td>\n",
       "      <td>-2.000000</td>\n",
       "      <td>-165580.000000</td>\n",
       "      <td>0.000000</td>\n",
       "      <td>10000.000000</td>\n",
       "    </tr>\n",
       "    <tr>\n",
       "      <th>25%</th>\n",
       "      <td>0.000000</td>\n",
       "      <td>1.000000</td>\n",
       "      <td>0.000000</td>\n",
       "      <td>0.000000</td>\n",
       "      <td>28.000000</td>\n",
       "      <td>-1.000000</td>\n",
       "      <td>3558.750000</td>\n",
       "      <td>1000.000000</td>\n",
       "      <td>50000.000000</td>\n",
       "    </tr>\n",
       "    <tr>\n",
       "      <th>50%</th>\n",
       "      <td>0.000000</td>\n",
       "      <td>1.000000</td>\n",
       "      <td>0.000000</td>\n",
       "      <td>0.000000</td>\n",
       "      <td>34.000000</td>\n",
       "      <td>1.000000</td>\n",
       "      <td>22381.500000</td>\n",
       "      <td>2100.000000</td>\n",
       "      <td>140000.000000</td>\n",
       "    </tr>\n",
       "    <tr>\n",
       "      <th>75%</th>\n",
       "      <td>1.000000</td>\n",
       "      <td>1.000000</td>\n",
       "      <td>1.000000</td>\n",
       "      <td>0.000000</td>\n",
       "      <td>41.000000</td>\n",
       "      <td>1.000000</td>\n",
       "      <td>67091.000000</td>\n",
       "      <td>5006.000000</td>\n",
       "      <td>240000.000000</td>\n",
       "    </tr>\n",
       "    <tr>\n",
       "      <th>max</th>\n",
       "      <td>1.000000</td>\n",
       "      <td>1.000000</td>\n",
       "      <td>1.000000</td>\n",
       "      <td>1.000000</td>\n",
       "      <td>79.000000</td>\n",
       "      <td>8.000000</td>\n",
       "      <td>964511.000000</td>\n",
       "      <td>873552.000000</td>\n",
       "      <td>1000000.000000</td>\n",
       "    </tr>\n",
       "  </tbody>\n",
       "</table>\n",
       "</div>"
      ],
      "text/plain": [
       "                SEX     EDUCATION      MARRIAGE  default_payment_next_month  \\\n",
       "count  30000.000000  30000.000000  30000.000000                30000.000000   \n",
       "mean       0.396267      0.820500      0.455300                    0.221200   \n",
       "std        0.489129      0.383777      0.498006                    0.415062   \n",
       "min        0.000000      0.000000      0.000000                    0.000000   \n",
       "25%        0.000000      1.000000      0.000000                    0.000000   \n",
       "50%        0.000000      1.000000      0.000000                    0.000000   \n",
       "75%        1.000000      1.000000      1.000000                    0.000000   \n",
       "max        1.000000      1.000000      1.000000                    1.000000   \n",
       "\n",
       "                AGE         PAY_0      BILL_AMT1       PAY_AMT1  \\\n",
       "count  30000.000000  30000.000000   30000.000000   30000.000000   \n",
       "mean      35.485500      0.720400   51223.330900    5663.580500   \n",
       "std        9.217904      1.489619   73635.860576   16563.280354   \n",
       "min       21.000000     -2.000000 -165580.000000       0.000000   \n",
       "25%       28.000000     -1.000000    3558.750000    1000.000000   \n",
       "50%       34.000000      1.000000   22381.500000    2100.000000   \n",
       "75%       41.000000      1.000000   67091.000000    5006.000000   \n",
       "max       79.000000      8.000000  964511.000000  873552.000000   \n",
       "\n",
       "            LIMIT_BAL  \n",
       "count    30000.000000  \n",
       "mean    167484.322667  \n",
       "std     129747.661567  \n",
       "min      10000.000000  \n",
       "25%      50000.000000  \n",
       "50%     140000.000000  \n",
       "75%     240000.000000  \n",
       "max    1000000.000000  "
      ]
     },
     "execution_count": 27,
     "metadata": {},
     "output_type": "execute_result"
    }
   ],
   "source": [
    "dummy_dataframe.describe()"
   ]
  },
  {
   "cell_type": "code",
   "execution_count": 28,
   "metadata": {},
   "outputs": [],
   "source": [
    "dummy_dataframe['PAY_0'] = dummy_dataframe['PAY_0'].replace([-1],1)\n",
    "dummy_dataframe['PAY_0'] = dummy_dataframe['PAY_0'].replace([2],0)\n",
    "dummy_dataframe['PAY_0'] = dummy_dataframe['PAY_0'].replace([3],0)\n",
    "dummy_dataframe['PAY_0'] = dummy_dataframe['PAY_0'].replace([4],0)\n",
    "dummy_dataframe['PAY_0'] = dummy_dataframe['PAY_0'].replace([5],0)\n",
    "dummy_dataframe['PAY_0'] = dummy_dataframe['PAY_0'].replace([6],0)\n",
    "dummy_dataframe['PAY_0'] = dummy_dataframe['PAY_0'].replace([7],0)\n",
    "dummy_dataframe['PAY_0'] = dummy_dataframe['PAY_0'].replace([8],0)\n",
    "dummy_dataframe['PAY_0'] = dummy_dataframe['PAY_0'].replace([9],0)\n",
    "dummy_dataframe['PAY_0'] = dummy_dataframe['PAY_0'].replace([-2],0)"
   ]
  },
  {
   "cell_type": "code",
   "execution_count": 29,
   "metadata": {},
   "outputs": [
    {
     "name": "stdout",
     "output_type": "stream",
     "text": [
      "Optimization terminated successfully.\n",
      "         Current function value: 0.468806\n",
      "         Iterations 7\n"
     ]
    }
   ],
   "source": [
    "import statsmodels.api as sm\n",
    "X = sm.tools.add_constant(X)\n",
    "logit_model = sm.Logit(y, X)\n",
    "result = logit_model.fit()"
   ]
  },
  {
   "cell_type": "code",
   "execution_count": 30,
   "metadata": {},
   "outputs": [
    {
     "data": {
      "text/html": [
       "<table class=\"simpletable\">\n",
       "<caption>Logit Regression Results</caption>\n",
       "<tr>\n",
       "  <th>Dep. Variable:</th>   <td>default_payment_next_month</td> <th>  No. Observations:  </th>  <td> 30000</td> \n",
       "</tr>\n",
       "<tr>\n",
       "  <th>Model:</th>                      <td>Logit</td>           <th>  Df Residuals:      </th>  <td> 29991</td> \n",
       "</tr>\n",
       "<tr>\n",
       "  <th>Method:</th>                      <td>MLE</td>            <th>  Df Model:          </th>  <td>     8</td> \n",
       "</tr>\n",
       "<tr>\n",
       "  <th>Date:</th>                 <td>Tue, 15 Dec 2020</td>      <th>  Pseudo R-squ.:     </th>  <td>0.1128</td> \n",
       "</tr>\n",
       "<tr>\n",
       "  <th>Time:</th>                     <td>14:44:42</td>          <th>  Log-Likelihood:    </th> <td> -14064.</td>\n",
       "</tr>\n",
       "<tr>\n",
       "  <th>converged:</th>                  <td>True</td>            <th>  LL-Null:           </th> <td> -15853.</td>\n",
       "</tr>\n",
       "<tr>\n",
       "  <th>Covariance Type:</th>          <td>nonrobust</td>         <th>  LLR p-value:       </th>  <td> 0.000</td> \n",
       "</tr>\n",
       "</table>\n",
       "<table class=\"simpletable\">\n",
       "<tr>\n",
       "      <td></td>         <th>coef</th>     <th>std err</th>      <th>z</th>      <th>P>|z|</th>  <th>[0.025</th>    <th>0.975]</th>  \n",
       "</tr>\n",
       "<tr>\n",
       "  <th>const</th>     <td>   -0.6625</td> <td>    0.118</td> <td>   -5.629</td> <td> 0.000</td> <td>   -0.893</td> <td>   -0.432</td>\n",
       "</tr>\n",
       "<tr>\n",
       "  <th>SEX</th>       <td>   -0.1186</td> <td>    0.030</td> <td>   -3.891</td> <td> 0.000</td> <td>   -0.178</td> <td>   -0.059</td>\n",
       "</tr>\n",
       "<tr>\n",
       "  <th>EDUCATION</th> <td>   -0.0971</td> <td>    0.021</td> <td>   -4.696</td> <td> 0.000</td> <td>   -0.138</td> <td>   -0.057</td>\n",
       "</tr>\n",
       "<tr>\n",
       "  <th>MARRIAGE</th>  <td>   -0.1625</td> <td>    0.032</td> <td>   -5.157</td> <td> 0.000</td> <td>   -0.224</td> <td>   -0.101</td>\n",
       "</tr>\n",
       "<tr>\n",
       "  <th>AGE</th>       <td>    0.0071</td> <td>    0.002</td> <td>    3.997</td> <td> 0.000</td> <td>    0.004</td> <td>    0.011</td>\n",
       "</tr>\n",
       "<tr>\n",
       "  <th>PAY_0</th>     <td>    0.6994</td> <td>    0.015</td> <td>   47.038</td> <td> 0.000</td> <td>    0.670</td> <td>    0.729</td>\n",
       "</tr>\n",
       "<tr>\n",
       "  <th>BILL_AMT1</th> <td>-1.227e-06</td> <td> 2.47e-07</td> <td>   -4.962</td> <td> 0.000</td> <td>-1.71e-06</td> <td>-7.42e-07</td>\n",
       "</tr>\n",
       "<tr>\n",
       "  <th>PAY_AMT1</th>  <td>-1.314e-05</td> <td> 2.03e-06</td> <td>   -6.457</td> <td> 0.000</td> <td>-1.71e-05</td> <td>-9.15e-06</td>\n",
       "</tr>\n",
       "<tr>\n",
       "  <th>LIMIT_BAL</th> <td>-1.568e-06</td> <td> 1.46e-07</td> <td>  -10.712</td> <td> 0.000</td> <td>-1.86e-06</td> <td>-1.28e-06</td>\n",
       "</tr>\n",
       "</table>"
      ],
      "text/plain": [
       "<class 'statsmodels.iolib.summary.Summary'>\n",
       "\"\"\"\n",
       "                               Logit Regression Results                               \n",
       "======================================================================================\n",
       "Dep. Variable:     default_payment_next_month   No. Observations:                30000\n",
       "Model:                                  Logit   Df Residuals:                    29991\n",
       "Method:                                   MLE   Df Model:                            8\n",
       "Date:                        Tue, 15 Dec 2020   Pseudo R-squ.:                  0.1128\n",
       "Time:                                14:44:42   Log-Likelihood:                -14064.\n",
       "converged:                               True   LL-Null:                       -15853.\n",
       "Covariance Type:                    nonrobust   LLR p-value:                     0.000\n",
       "==============================================================================\n",
       "                 coef    std err          z      P>|z|      [0.025      0.975]\n",
       "------------------------------------------------------------------------------\n",
       "const         -0.6625      0.118     -5.629      0.000      -0.893      -0.432\n",
       "SEX           -0.1186      0.030     -3.891      0.000      -0.178      -0.059\n",
       "EDUCATION     -0.0971      0.021     -4.696      0.000      -0.138      -0.057\n",
       "MARRIAGE      -0.1625      0.032     -5.157      0.000      -0.224      -0.101\n",
       "AGE            0.0071      0.002      3.997      0.000       0.004       0.011\n",
       "PAY_0          0.6994      0.015     47.038      0.000       0.670       0.729\n",
       "BILL_AMT1  -1.227e-06   2.47e-07     -4.962      0.000   -1.71e-06   -7.42e-07\n",
       "PAY_AMT1   -1.314e-05   2.03e-06     -6.457      0.000   -1.71e-05   -9.15e-06\n",
       "LIMIT_BAL  -1.568e-06   1.46e-07    -10.712      0.000   -1.86e-06   -1.28e-06\n",
       "==============================================================================\n",
       "\"\"\""
      ]
     },
     "execution_count": 30,
     "metadata": {},
     "output_type": "execute_result"
    }
   ],
   "source": [
    "result.summary()"
   ]
  },
  {
   "cell_type": "code",
   "execution_count": 31,
   "metadata": {},
   "outputs": [],
   "source": [
    "#So far, our model tells us the following:\n",
    "#Male=less likely to default\n",
    "#At least a college degree=less likely to default\n",
    "#Married=less likely to default\n",
    "#Older=more likely to default\n",
    "#Recent payment made on time=more likely to default? This does not make sense.\n",
    "#Higher bill amount=less likely to default\n",
    "#Higher pay amount=less likely to default\n",
    "#Higher limit balance=less likely to default"
   ]
  },
  {
   "cell_type": "code",
   "execution_count": 32,
   "metadata": {},
   "outputs": [],
   "source": [
    "# Import train_test_split\n",
    "from sklearn.model_selection import train_test_split\n",
    "\n",
    "# Split data into X and y\n",
    "y = dummy_dataframe['default_payment_next_month']\n",
    "X = dummy_dataframe.drop(columns=['default_payment_next_month'], axis=1)\n",
    "\n",
    "# Split the data into a training and a test set\n",
    "X_train, X_test, y_train, y_test = train_test_split(X, y, random_state=0)"
   ]
  },
  {
   "cell_type": "code",
   "execution_count": 33,
   "metadata": {},
   "outputs": [
    {
     "data": {
      "text/plain": [
       "LogisticRegression(C=1000000000000.0, fit_intercept=False, solver='liblinear')"
      ]
     },
     "execution_count": 33,
     "metadata": {},
     "output_type": "execute_result"
    }
   ],
   "source": [
    "# Import LogisticRegression\n",
    "from sklearn.linear_model import LogisticRegression\n",
    "\n",
    "# Instantiate LogisticRegression \n",
    "logreg = LogisticRegression(fit_intercept=False, C=1e12, solver='liblinear')\n",
    "\n",
    "# Fit to training data\n",
    "model_log = logreg.fit(X_train, y_train)\n",
    "model_log"
   ]
  },
  {
   "cell_type": "code",
   "execution_count": 34,
   "metadata": {},
   "outputs": [],
   "source": [
    "#Accuracy calculation function\n",
    "def accuracy(y, y_hat):\n",
    "    y_y_hat = list(zip(y, y_hat))\n",
    "    tp = sum([1 for i in y_y_hat if i[0] == 1 and i[1] == 1])\n",
    "    tn = sum([1 for i in y_y_hat if i[0] == 0 and i[1] == 0])\n",
    "    return (tp + tn) / float(len(y_hat))"
   ]
  },
  {
   "cell_type": "code",
   "execution_count": 35,
   "metadata": {},
   "outputs": [],
   "source": [
    "#Recall calculation function\n",
    "def recall(y, y_hat):\n",
    "    y_y_hat = list(zip(y, y_hat))\n",
    "    tp = sum([1 for i in y_y_hat if i[0] == 1 and i[1] == 1])\n",
    "    fn = sum([1 for i in y_y_hat if i[0] == 1 and i[1] == 0])\n",
    "    return tp / (tp + fn)"
   ]
  },
  {
   "cell_type": "code",
   "execution_count": 36,
   "metadata": {},
   "outputs": [],
   "source": [
    "def precision(y, y_hat):\n",
    "    y_y_hat = list(zip(y, y_hat))\n",
    "    tp = sum([1 for i in y_y_hat if i[0] == 1 and i[1] == 1])\n",
    "    fp = sum([1 for i in y_y_hat if i[0] == 0 and i[1] == 1])\n",
    "    return tp / float(tp + fp)"
   ]
  },
  {
   "cell_type": "code",
   "execution_count": 37,
   "metadata": {},
   "outputs": [],
   "source": [
    "#F1 calculation function\n",
    "def f1(y, y_hat):\n",
    "    precision_score = precision(y, y_hat)\n",
    "    recall_score = recall(y, y_hat)\n",
    "    numerator = precision_score * recall_score\n",
    "    denominator = precision_score + recall_score\n",
    "    return 2 * (numerator / denominator)"
   ]
  },
  {
   "cell_type": "code",
   "execution_count": 38,
   "metadata": {},
   "outputs": [
    {
     "name": "stdout",
     "output_type": "stream",
     "text": [
      "Training Accuracy:  0.7776\n",
      "Testing Accuracy:  0.7824\n"
     ]
    }
   ],
   "source": [
    "y_hat_train = logreg.predict(X_train)\n",
    "y_hat_test = logreg.predict(X_test)\n",
    "\n",
    "print('Training Accuracy: ', accuracy(y_train, y_hat_train))\n",
    "print('Testing Accuracy: ', accuracy(y_test, y_hat_test))"
   ]
  },
  {
   "cell_type": "code",
   "execution_count": 39,
   "metadata": {},
   "outputs": [
    {
     "name": "stdout",
     "output_type": "stream",
     "text": [
      "Training Recall:  0.0\n",
      "Testing Recall:  0.0\n"
     ]
    }
   ],
   "source": [
    "print('Training Recall: ', recall(y_train, y_hat_train))\n",
    "print('Testing Recall: ', recall(y_test, y_hat_test))"
   ]
  },
  {
   "cell_type": "code",
   "execution_count": 40,
   "metadata": {},
   "outputs": [],
   "source": [
    "#print('Training Precision: ', precision(y_train, y_hat_train))\n",
    "#print('Testing Precision: ', precision(y_test, y_hat_test))\n",
    "#print('\\n\\n')\n",
    "\n",
    "#Not working because ZeroDivisionError: float division by zero"
   ]
  },
  {
   "cell_type": "code",
   "execution_count": 41,
   "metadata": {},
   "outputs": [],
   "source": [
    "#print('Training F1-Score: ', f1(y_train, y_hat_train))\n",
    "#print('Testing F1-Score: ', f1(y_test, y_hat_test))\n",
    "\n",
    "#F1 calculation is not working because ZeroDivisionError: float division by zero"
   ]
  },
  {
   "cell_type": "code",
   "execution_count": 42,
   "metadata": {},
   "outputs": [
    {
     "name": "stdout",
     "output_type": "stream",
     "text": [
      "Training Accuracy:  0.7776\n",
      "Testing Accuracy:  0.7824\n",
      "\n",
      "\n",
      "\n",
      "Training Recall:  0.0\n",
      "Testing Recall:  0.0\n",
      "\n",
      "\n",
      "\n",
      "Training Precision:  0.0\n",
      "Testing Precision:  0.0\n",
      "\n",
      "\n",
      "\n",
      "Training F1-Score:  0.0\n",
      "Testing F1-Score:  0.0\n"
     ]
    }
   ],
   "source": [
    "from sklearn.metrics import precision_score, recall_score, accuracy_score, f1_score\n",
    "\n",
    "print('Training Accuracy: ', accuracy_score(y_train, y_hat_train))\n",
    "print('Testing Accuracy: ', accuracy_score(y_test, y_hat_test))\n",
    "print('\\n\\n')\n",
    "\n",
    "print('Training Recall: ', recall_score(y_train, y_hat_train))\n",
    "print('Testing Recall: ', recall_score(y_test, y_hat_test))\n",
    "print('\\n\\n')\n",
    "\n",
    "print('Training Precision: ', precision_score(y_train, y_hat_train))\n",
    "print('Testing Precision: ', precision_score(y_test, y_hat_test))\n",
    "print('\\n\\n')\n",
    "\n",
    "print('Training F1-Score: ', f1_score(y_train, y_hat_train))\n",
    "print('Testing F1-Score: ', f1_score(y_test, y_hat_test))"
   ]
  },
  {
   "cell_type": "code",
   "execution_count": 43,
   "metadata": {},
   "outputs": [
    {
     "name": "stdout",
     "output_type": "stream",
     "text": [
      "LogisticRegression(C=1000000000000.0, fit_intercept=False, solver='liblinear')\n",
      "\n"
     ]
    },
    {
     "data": {
      "text/html": [
       "<div>\n",
       "<style scoped>\n",
       "    .dataframe tbody tr th:only-of-type {\n",
       "        vertical-align: middle;\n",
       "    }\n",
       "\n",
       "    .dataframe tbody tr th {\n",
       "        vertical-align: top;\n",
       "    }\n",
       "\n",
       "    .dataframe thead th {\n",
       "        text-align: right;\n",
       "    }\n",
       "</style>\n",
       "<table border=\"1\" class=\"dataframe\">\n",
       "  <thead>\n",
       "    <tr style=\"text-align: right;\">\n",
       "      <th></th>\n",
       "      <th>SEX</th>\n",
       "      <th>EDUCATION</th>\n",
       "      <th>MARRIAGE</th>\n",
       "      <th>default_payment_next_month</th>\n",
       "      <th>AGE</th>\n",
       "      <th>PAY_0</th>\n",
       "      <th>BILL_AMT1</th>\n",
       "      <th>PAY_AMT1</th>\n",
       "      <th>LIMIT_BAL</th>\n",
       "    </tr>\n",
       "  </thead>\n",
       "  <tbody>\n",
       "    <tr>\n",
       "      <th>0</th>\n",
       "      <td>0.0</td>\n",
       "      <td>1.0</td>\n",
       "      <td>1.0</td>\n",
       "      <td>1.0</td>\n",
       "      <td>0.051724</td>\n",
       "      <td>0.0</td>\n",
       "      <td>0.149982</td>\n",
       "      <td>0.000000</td>\n",
       "      <td>0.010101</td>\n",
       "    </tr>\n",
       "    <tr>\n",
       "      <th>1</th>\n",
       "      <td>0.0</td>\n",
       "      <td>1.0</td>\n",
       "      <td>0.0</td>\n",
       "      <td>1.0</td>\n",
       "      <td>0.086207</td>\n",
       "      <td>1.0</td>\n",
       "      <td>0.148892</td>\n",
       "      <td>0.000000</td>\n",
       "      <td>0.111111</td>\n",
       "    </tr>\n",
       "    <tr>\n",
       "      <th>2</th>\n",
       "      <td>0.0</td>\n",
       "      <td>1.0</td>\n",
       "      <td>0.0</td>\n",
       "      <td>0.0</td>\n",
       "      <td>0.224138</td>\n",
       "      <td>1.0</td>\n",
       "      <td>0.172392</td>\n",
       "      <td>0.001738</td>\n",
       "      <td>0.080808</td>\n",
       "    </tr>\n",
       "    <tr>\n",
       "      <th>3</th>\n",
       "      <td>0.0</td>\n",
       "      <td>1.0</td>\n",
       "      <td>1.0</td>\n",
       "      <td>0.0</td>\n",
       "      <td>0.275862</td>\n",
       "      <td>1.0</td>\n",
       "      <td>0.188100</td>\n",
       "      <td>0.002290</td>\n",
       "      <td>0.040404</td>\n",
       "    </tr>\n",
       "    <tr>\n",
       "      <th>4</th>\n",
       "      <td>1.0</td>\n",
       "      <td>1.0</td>\n",
       "      <td>1.0</td>\n",
       "      <td>0.0</td>\n",
       "      <td>0.620690</td>\n",
       "      <td>1.0</td>\n",
       "      <td>0.154144</td>\n",
       "      <td>0.002290</td>\n",
       "      <td>0.040404</td>\n",
       "    </tr>\n",
       "  </tbody>\n",
       "</table>\n",
       "</div>"
      ],
      "text/plain": [
       "   SEX  EDUCATION  MARRIAGE  default_payment_next_month       AGE  PAY_0  \\\n",
       "0  0.0        1.0       1.0                         1.0  0.051724    0.0   \n",
       "1  0.0        1.0       0.0                         1.0  0.086207    1.0   \n",
       "2  0.0        1.0       0.0                         0.0  0.224138    1.0   \n",
       "3  0.0        1.0       1.0                         0.0  0.275862    1.0   \n",
       "4  1.0        1.0       1.0                         0.0  0.620690    1.0   \n",
       "\n",
       "   BILL_AMT1  PAY_AMT1  LIMIT_BAL  \n",
       "0   0.149982  0.000000   0.010101  \n",
       "1   0.148892  0.000000   0.111111  \n",
       "2   0.172392  0.001738   0.080808  \n",
       "3   0.188100  0.002290   0.040404  \n",
       "4   0.154144  0.002290   0.040404  "
      ]
     },
     "execution_count": 43,
     "metadata": {},
     "output_type": "execute_result"
    }
   ],
   "source": [
    "from sklearn.linear_model import LogisticRegression\n",
    "from sklearn.model_selection import train_test_split\n",
    "\n",
    "# Define appropriate X and y\n",
    "X = dummy_dataframe[dummy_dataframe.columns[:-1]]\n",
    "y = dummy_dataframe.default_payment_next_month\n",
    "\n",
    "# Normalize the data\n",
    "for col in dummy_dataframe.columns:\n",
    "    dummy_dataframe[col] = (dummy_dataframe[col] - min(dummy_dataframe[col]))/ (max(dummy_dataframe[col]) - min(dummy_dataframe[col]))\n",
    "\n",
    "# Split the data into train and test sets \n",
    "X_train, X_test, y_train, y_test = train_test_split(X, y, random_state=0)\n",
    "\n",
    "# Fit a model\n",
    "logreg = LogisticRegression(fit_intercept=False, C=1e12, solver='liblinear')\n",
    "model_log = logreg.fit(X_train, y_train)\n",
    "\n",
    "# Preview model params\n",
    "print(model_log) \n",
    "\n",
    "# Predict\n",
    "y_hat_test = logreg.predict(X_test)\n",
    "\n",
    "print(\"\")\n",
    "# Data preview\n",
    "dummy_dataframe.head()"
   ]
  },
  {
   "cell_type": "code",
   "execution_count": 44,
   "metadata": {},
   "outputs": [
    {
     "data": {
      "text/plain": [
       "{'True Positive': 0,\n",
       " 'True Negative': 5868,\n",
       " 'False Positive': 0,\n",
       " 'False Negative': 1632}"
      ]
     },
     "execution_count": 44,
     "metadata": {},
     "output_type": "execute_result"
    }
   ],
   "source": [
    "def conf_matrix(y_true, y_pred):\n",
    "    cm = {'True Positive': 0, 'True Negative': 0, 'False Positive': 0, 'False Negative': 0}\n",
    "#iterating through predictions and labels, starting at 0, adding 1 each time it matches.    \n",
    "    for ind, label in enumerate(y_true):\n",
    "        pred = y_pred[ind]\n",
    "        if label == 1:\n",
    "            if label == pred:\n",
    "                cm['True Positive'] += 1\n",
    "            else:\n",
    "                cm['False Negative'] += 1\n",
    "        else:\n",
    "            if label == pred:\n",
    "                cm['True Negative'] += 1\n",
    "            else:\n",
    "                cm['False Positive'] += 1\n",
    "    return cm\n",
    "\n",
    "conf_matrix(y_test, y_hat_test)"
   ]
  },
  {
   "cell_type": "code",
   "execution_count": 45,
   "metadata": {},
   "outputs": [
    {
     "name": "stdout",
     "output_type": "stream",
     "text": [
      "Confusion Matrix:\n",
      " [[5868    0]\n",
      " [1632    0]]\n"
     ]
    }
   ],
   "source": [
    "from sklearn.metrics import confusion_matrix\n",
    "\n",
    "# Print confusion matrix\n",
    "cnf_matrix = confusion_matrix(y_test, y_hat_test)\n",
    "print('Confusion Matrix:\\n', cnf_matrix)"
   ]
  },
  {
   "cell_type": "code",
   "execution_count": 46,
   "metadata": {},
   "outputs": [
    {
     "data": {
      "image/png": "[encoded data removed]",
      "text/plain": [
       "<Figure size 432x288 with 2 Axes>"
      ]
     },
     "metadata": {
      "needs_background": "light"
     },
     "output_type": "display_data"
    }
   ],
   "source": [
    "from sklearn.metrics import plot_confusion_matrix\n",
    "plot_confusion_matrix(logreg, X_test, y_test,\n",
    "                     cmap=plt.cm.Blues)\n",
    "plt.show()"
   ]
  },
  {
   "cell_type": "code",
   "execution_count": 47,
   "metadata": {},
   "outputs": [],
   "source": [
    "dummy_dataframe.drop(columns=['PAY_AMT1'], inplace = True)"
   ]
  },
  {
   "cell_type": "code",
   "execution_count": 48,
   "metadata": {},
   "outputs": [
    {
     "data": {
      "text/html": [
       "<div>\n",
       "<style scoped>\n",
       "    .dataframe tbody tr th:only-of-type {\n",
       "        vertical-align: middle;\n",
       "    }\n",
       "\n",
       "    .dataframe tbody tr th {\n",
       "        vertical-align: top;\n",
       "    }\n",
       "\n",
       "    .dataframe thead th {\n",
       "        text-align: right;\n",
       "    }\n",
       "</style>\n",
       "<table border=\"1\" class=\"dataframe\">\n",
       "  <thead>\n",
       "    <tr style=\"text-align: right;\">\n",
       "      <th></th>\n",
       "      <th>SEX</th>\n",
       "      <th>EDUCATION</th>\n",
       "      <th>MARRIAGE</th>\n",
       "      <th>default_payment_next_month</th>\n",
       "      <th>AGE</th>\n",
       "      <th>PAY_0</th>\n",
       "      <th>BILL_AMT1</th>\n",
       "      <th>LIMIT_BAL</th>\n",
       "    </tr>\n",
       "  </thead>\n",
       "  <tbody>\n",
       "    <tr>\n",
       "      <th>0</th>\n",
       "      <td>-0.816497</td>\n",
       "      <td>0.466898</td>\n",
       "      <td>-0.911867</td>\n",
       "      <td>-0.534797</td>\n",
       "      <td>-0.921533</td>\n",
       "      <td>0.684874</td>\n",
       "      <td>-0.333250</td>\n",
       "      <td>-0.219769</td>\n",
       "    </tr>\n",
       "    <tr>\n",
       "      <th>1</th>\n",
       "      <td>-0.816497</td>\n",
       "      <td>-2.141795</td>\n",
       "      <td>1.096651</td>\n",
       "      <td>-0.534797</td>\n",
       "      <td>1.911197</td>\n",
       "      <td>0.684874</td>\n",
       "      <td>-0.446067</td>\n",
       "      <td>-0.199202</td>\n",
       "    </tr>\n",
       "    <tr>\n",
       "      <th>2</th>\n",
       "      <td>1.224745</td>\n",
       "      <td>-2.141795</td>\n",
       "      <td>1.096651</td>\n",
       "      <td>1.869867</td>\n",
       "      <td>0.276930</td>\n",
       "      <td>-1.460123</td>\n",
       "      <td>0.812221</td>\n",
       "      <td>1.009454</td>\n",
       "    </tr>\n",
       "    <tr>\n",
       "      <th>3</th>\n",
       "      <td>-0.816497</td>\n",
       "      <td>0.466898</td>\n",
       "      <td>1.096651</td>\n",
       "      <td>-0.534797</td>\n",
       "      <td>-0.267826</td>\n",
       "      <td>0.684874</td>\n",
       "      <td>-0.543453</td>\n",
       "      <td>0.192410</td>\n",
       "    </tr>\n",
       "    <tr>\n",
       "      <th>4</th>\n",
       "      <td>-0.816497</td>\n",
       "      <td>0.466898</td>\n",
       "      <td>1.096651</td>\n",
       "      <td>1.869867</td>\n",
       "      <td>1.911197</td>\n",
       "      <td>-1.460123</td>\n",
       "      <td>2.311821</td>\n",
       "      <td>0.169385</td>\n",
       "    </tr>\n",
       "  </tbody>\n",
       "</table>\n",
       "</div>"
      ],
      "text/plain": [
       "        SEX  EDUCATION  MARRIAGE  default_payment_next_month       AGE  \\\n",
       "0 -0.816497   0.466898 -0.911867                   -0.534797 -0.921533   \n",
       "1 -0.816497  -2.141795  1.096651                   -0.534797  1.911197   \n",
       "2  1.224745  -2.141795  1.096651                    1.869867  0.276930   \n",
       "3 -0.816497   0.466898  1.096651                   -0.534797 -0.267826   \n",
       "4 -0.816497   0.466898  1.096651                    1.869867  1.911197   \n",
       "\n",
       "      PAY_0  BILL_AMT1  LIMIT_BAL  \n",
       "0  0.684874  -0.333250  -0.219769  \n",
       "1  0.684874  -0.446067  -0.199202  \n",
       "2 -1.460123   0.812221   1.009454  \n",
       "3  0.684874  -0.543453   0.192410  \n",
       "4 -1.460123   2.311821   0.169385  "
      ]
     },
     "execution_count": 48,
     "metadata": {},
     "output_type": "execute_result"
    }
   ],
   "source": [
    "# Import StandardScaler\n",
    "from sklearn.preprocessing import StandardScaler\n",
    "\n",
    "# Instantiate StandardScaler\n",
    "scaler = StandardScaler()\n",
    "\n",
    "# Transform the training and test sets\n",
    "scaled_data_train = scaler.fit_transform(X_train)\n",
    "scaled_data_test = scaler.transform(X_test)\n",
    "\n",
    "# Convert into a DataFrame\n",
    "scaled_df_train = pd.DataFrame(scaled_data_train, columns=dummy_dataframe.columns)\n",
    "scaled_df_train.head()"
   ]
  },
  {
   "cell_type": "code",
   "execution_count": 49,
   "metadata": {},
   "outputs": [
    {
     "name": "stdout",
     "output_type": "stream",
     "text": [
      "Training Accuracy:  0.7776\n",
      "Testing Accuracy:  0.7824\n",
      "\n",
      "\n",
      "\n",
      "Training Recall:  0.0\n",
      "Testing Recall:  0.0\n",
      "\n",
      "\n",
      "\n",
      "Training Precision:  0.0\n",
      "Testing Precision:  0.0\n",
      "\n",
      "\n",
      "\n",
      "Training F1-Score:  0.0\n",
      "Testing F1-Score:  0.0\n"
     ]
    }
   ],
   "source": [
    "print('Training Accuracy: ', accuracy_score(y_train, y_hat_train))\n",
    "print('Testing Accuracy: ', accuracy_score(y_test, y_hat_test))\n",
    "print('\\n\\n')\n",
    "\n",
    "print('Training Recall: ', recall_score(y_train, y_hat_train))\n",
    "print('Testing Recall: ', recall_score(y_test, y_hat_test))\n",
    "print('\\n\\n')\n",
    "\n",
    "print('Training Precision: ', precision_score(y_train, y_hat_train))\n",
    "print('Testing Precision: ', precision_score(y_test, y_hat_test))\n",
    "print('\\n\\n')\n",
    "\n",
    "print('Training F1-Score: ', f1_score(y_train, y_hat_train))\n",
    "print('Testing F1-Score: ', f1_score(y_test, y_hat_test))"
   ]
  },
  {
   "cell_type": "markdown",
   "metadata": {},
   "source": [
    "Even with the scaled data, we are not getting useful information from recall, precision, and F1. This is most likely because we still would need to use SMOTE to deal with the class imbalance."
   ]
  },
  {
   "cell_type": "markdown",
   "metadata": {},
   "source": [
    "Note: With regression trees, there is no need to check for multicollinearity or heteroscedasticity.\n",
    "Also, there is no need to perform scaling. Most of the other algorithms (not just regression trees) besides logistic regressions also do not require multicollinearity/heteroscedasticity checks."
   ]
  },
  {
   "cell_type": "markdown",
   "metadata": {},
   "source": [
    "We can improve on these results we get from logistic regression. With the use of SMOTE, we can improve on these results from the logistic regression. For now, though, let's try some other algorithms. Next up in KNN."
   ]
  },
  {
   "cell_type": "code",
   "execution_count": 50,
   "metadata": {},
   "outputs": [
    {
     "data": {
      "text/html": [
       "<div>\n",
       "<style scoped>\n",
       "    .dataframe tbody tr th:only-of-type {\n",
       "        vertical-align: middle;\n",
       "    }\n",
       "\n",
       "    .dataframe tbody tr th {\n",
       "        vertical-align: top;\n",
       "    }\n",
       "\n",
       "    .dataframe thead th {\n",
       "        text-align: right;\n",
       "    }\n",
       "</style>\n",
       "<table border=\"1\" class=\"dataframe\">\n",
       "  <thead>\n",
       "    <tr style=\"text-align: right;\">\n",
       "      <th></th>\n",
       "      <th>ID</th>\n",
       "      <th>LIMIT_BAL</th>\n",
       "      <th>SEX</th>\n",
       "      <th>EDUCATION</th>\n",
       "      <th>MARRIAGE</th>\n",
       "      <th>AGE</th>\n",
       "      <th>PAY_0</th>\n",
       "      <th>PAY_2</th>\n",
       "      <th>PAY_3</th>\n",
       "      <th>PAY_4</th>\n",
       "      <th>...</th>\n",
       "      <th>BILL_AMT4</th>\n",
       "      <th>BILL_AMT5</th>\n",
       "      <th>BILL_AMT6</th>\n",
       "      <th>PAY_AMT1</th>\n",
       "      <th>PAY_AMT2</th>\n",
       "      <th>PAY_AMT3</th>\n",
       "      <th>PAY_AMT4</th>\n",
       "      <th>PAY_AMT5</th>\n",
       "      <th>PAY_AMT6</th>\n",
       "      <th>default.payment.next.month</th>\n",
       "    </tr>\n",
       "  </thead>\n",
       "  <tbody>\n",
       "    <tr>\n",
       "      <th>0</th>\n",
       "      <td>1</td>\n",
       "      <td>20000.0</td>\n",
       "      <td>2</td>\n",
       "      <td>2</td>\n",
       "      <td>1</td>\n",
       "      <td>24</td>\n",
       "      <td>2</td>\n",
       "      <td>2</td>\n",
       "      <td>-1</td>\n",
       "      <td>-1</td>\n",
       "      <td>...</td>\n",
       "      <td>0.0</td>\n",
       "      <td>0.0</td>\n",
       "      <td>0.0</td>\n",
       "      <td>0.0</td>\n",
       "      <td>689.0</td>\n",
       "      <td>0.0</td>\n",
       "      <td>0.0</td>\n",
       "      <td>0.0</td>\n",
       "      <td>0.0</td>\n",
       "      <td>1</td>\n",
       "    </tr>\n",
       "    <tr>\n",
       "      <th>1</th>\n",
       "      <td>2</td>\n",
       "      <td>120000.0</td>\n",
       "      <td>2</td>\n",
       "      <td>2</td>\n",
       "      <td>2</td>\n",
       "      <td>26</td>\n",
       "      <td>-1</td>\n",
       "      <td>2</td>\n",
       "      <td>0</td>\n",
       "      <td>0</td>\n",
       "      <td>...</td>\n",
       "      <td>3272.0</td>\n",
       "      <td>3455.0</td>\n",
       "      <td>3261.0</td>\n",
       "      <td>0.0</td>\n",
       "      <td>1000.0</td>\n",
       "      <td>1000.0</td>\n",
       "      <td>1000.0</td>\n",
       "      <td>0.0</td>\n",
       "      <td>2000.0</td>\n",
       "      <td>1</td>\n",
       "    </tr>\n",
       "    <tr>\n",
       "      <th>2</th>\n",
       "      <td>3</td>\n",
       "      <td>90000.0</td>\n",
       "      <td>2</td>\n",
       "      <td>2</td>\n",
       "      <td>2</td>\n",
       "      <td>34</td>\n",
       "      <td>0</td>\n",
       "      <td>0</td>\n",
       "      <td>0</td>\n",
       "      <td>0</td>\n",
       "      <td>...</td>\n",
       "      <td>14331.0</td>\n",
       "      <td>14948.0</td>\n",
       "      <td>15549.0</td>\n",
       "      <td>1518.0</td>\n",
       "      <td>1500.0</td>\n",
       "      <td>1000.0</td>\n",
       "      <td>1000.0</td>\n",
       "      <td>1000.0</td>\n",
       "      <td>5000.0</td>\n",
       "      <td>0</td>\n",
       "    </tr>\n",
       "    <tr>\n",
       "      <th>3</th>\n",
       "      <td>4</td>\n",
       "      <td>50000.0</td>\n",
       "      <td>2</td>\n",
       "      <td>2</td>\n",
       "      <td>1</td>\n",
       "      <td>37</td>\n",
       "      <td>0</td>\n",
       "      <td>0</td>\n",
       "      <td>0</td>\n",
       "      <td>0</td>\n",
       "      <td>...</td>\n",
       "      <td>28314.0</td>\n",
       "      <td>28959.0</td>\n",
       "      <td>29547.0</td>\n",
       "      <td>2000.0</td>\n",
       "      <td>2019.0</td>\n",
       "      <td>1200.0</td>\n",
       "      <td>1100.0</td>\n",
       "      <td>1069.0</td>\n",
       "      <td>1000.0</td>\n",
       "      <td>0</td>\n",
       "    </tr>\n",
       "    <tr>\n",
       "      <th>4</th>\n",
       "      <td>5</td>\n",
       "      <td>50000.0</td>\n",
       "      <td>1</td>\n",
       "      <td>2</td>\n",
       "      <td>1</td>\n",
       "      <td>57</td>\n",
       "      <td>-1</td>\n",
       "      <td>0</td>\n",
       "      <td>-1</td>\n",
       "      <td>0</td>\n",
       "      <td>...</td>\n",
       "      <td>20940.0</td>\n",
       "      <td>19146.0</td>\n",
       "      <td>19131.0</td>\n",
       "      <td>2000.0</td>\n",
       "      <td>36681.0</td>\n",
       "      <td>10000.0</td>\n",
       "      <td>9000.0</td>\n",
       "      <td>689.0</td>\n",
       "      <td>679.0</td>\n",
       "      <td>0</td>\n",
       "    </tr>\n",
       "  </tbody>\n",
       "</table>\n",
       "<p>5 rows × 25 columns</p>\n",
       "</div>"
      ],
      "text/plain": [
       "   ID  LIMIT_BAL  SEX  EDUCATION  MARRIAGE  AGE  PAY_0  PAY_2  PAY_3  PAY_4  \\\n",
       "0   1    20000.0    2          2         1   24      2      2     -1     -1   \n",
       "1   2   120000.0    2          2         2   26     -1      2      0      0   \n",
       "2   3    90000.0    2          2         2   34      0      0      0      0   \n",
       "3   4    50000.0    2          2         1   37      0      0      0      0   \n",
       "4   5    50000.0    1          2         1   57     -1      0     -1      0   \n",
       "\n",
       "   ...  BILL_AMT4  BILL_AMT5  BILL_AMT6  PAY_AMT1  PAY_AMT2  PAY_AMT3  \\\n",
       "0  ...        0.0        0.0        0.0       0.0     689.0       0.0   \n",
       "1  ...     3272.0     3455.0     3261.0       0.0    1000.0    1000.0   \n",
       "2  ...    14331.0    14948.0    15549.0    1518.0    1500.0    1000.0   \n",
       "3  ...    28314.0    28959.0    29547.0    2000.0    2019.0    1200.0   \n",
       "4  ...    20940.0    19146.0    19131.0    2000.0   36681.0   10000.0   \n",
       "\n",
       "   PAY_AMT4  PAY_AMT5  PAY_AMT6  default.payment.next.month  \n",
       "0       0.0       0.0       0.0                           1  \n",
       "1    1000.0       0.0    2000.0                           1  \n",
       "2    1000.0    1000.0    5000.0                           0  \n",
       "3    1100.0    1069.0    1000.0                           0  \n",
       "4    9000.0     689.0     679.0                           0  \n",
       "\n",
       "[5 rows x 25 columns]"
      ]
     },
     "execution_count": 50,
     "metadata": {},
     "output_type": "execute_result"
    }
   ],
   "source": [
    "raw_df = pd.read_csv('UCI_Credit_Card.csv')\n",
    "\n",
    "# Print the head of the DataFrame to ensure everything loaded correctly \n",
    "raw_df.head()"
   ]
  },
  {
   "cell_type": "code",
   "execution_count": 51,
   "metadata": {},
   "outputs": [],
   "source": [
    "df_knn = raw_df.drop(['ID','PAY_2','PAY_3','PAY_4','PAY_5','PAY_6',\n",
    "                      'BILL_AMT2','BILL_AMT3','BILL_AMT4','BILL_AMT5','BILL_AMT6',\n",
    "                     'PAY_AMT2','PAY_AMT3','PAY_AMT4','PAY_AMT5','PAY_AMT6'], axis=1, inplace=False)"
   ]
  },
  {
   "cell_type": "code",
   "execution_count": 52,
   "metadata": {},
   "outputs": [],
   "source": [
    "#The genders are set to male=1 and female=2. By changing 2's to 0's, we set up a true/false, or 1/0 outcome.\n",
    "df_knn['SEX'] = df_knn['SEX'].replace([2],0)"
   ]
  },
  {
   "cell_type": "code",
   "execution_count": 53,
   "metadata": {},
   "outputs": [],
   "source": [
    "#The marriage categories are set to 1=married, 2=single, 3=other.\n",
    "#We would like 1's to indicate married and 0's to indicate not married.\n",
    "df_knn['MARRIAGE'] = df_knn['MARRIAGE'].replace([2],0)\n",
    "df_knn['MARRIAGE'] = df_knn['MARRIAGE'].replace([3],0)"
   ]
  },
  {
   "cell_type": "code",
   "execution_count": 54,
   "metadata": {},
   "outputs": [],
   "source": [
    "#0 and -1 PAY_0 mean that the payment was made on time. We want on-time payments to have a 1 PAY_0,\n",
    "#and all remaining PAY_0 values should be converted to 0.\n",
    "df_knn['PAY_0'] = df_knn['PAY_0'].replace([1],3)"
   ]
  },
  {
   "cell_type": "code",
   "execution_count": 55,
   "metadata": {},
   "outputs": [],
   "source": [
    "df_knn['PAY_0'] = df_knn['PAY_0'].replace([0],1)"
   ]
  },
  {
   "cell_type": "code",
   "execution_count": 56,
   "metadata": {},
   "outputs": [],
   "source": [
    "df_knn['PAY_0'] = df_knn['PAY_0'].replace([-1],1)\n",
    "df_knn['PAY_0'] = df_knn['PAY_0'].replace([2],0)\n",
    "df_knn['PAY_0'] = df_knn['PAY_0'].replace([3],0)\n",
    "df_knn['PAY_0'] = df_knn['PAY_0'].replace([4],0)\n",
    "df_knn['PAY_0'] = df_knn['PAY_0'].replace([5],0)\n",
    "df_knn['PAY_0'] = df_knn['PAY_0'].replace([6],0)\n",
    "df_knn['PAY_0'] = df_knn['PAY_0'].replace([7],0)\n",
    "df_knn['PAY_0'] = df_knn['PAY_0'].replace([8],0)\n",
    "df_knn['PAY_0'] = df_knn['PAY_0'].replace([9],0)\n",
    "df_knn['PAY_0'] = df_knn['PAY_0'].replace([-2],0)"
   ]
  },
  {
   "cell_type": "code",
   "execution_count": 57,
   "metadata": {},
   "outputs": [
    {
     "data": {
      "text/plain": [
       "LIMIT_BAL                     0\n",
       "SEX                           0\n",
       "EDUCATION                     0\n",
       "MARRIAGE                      0\n",
       "AGE                           0\n",
       "PAY_0                         0\n",
       "BILL_AMT1                     0\n",
       "PAY_AMT1                      0\n",
       "default.payment.next.month    0\n",
       "dtype: int64"
      ]
     },
     "execution_count": 57,
     "metadata": {},
     "output_type": "execute_result"
    }
   ],
   "source": [
    "df_knn.isna().sum()"
   ]
  },
  {
   "cell_type": "code",
   "execution_count": 58,
   "metadata": {},
   "outputs": [
    {
     "data": {
      "text/html": [
       "<div>\n",
       "<style scoped>\n",
       "    .dataframe tbody tr th:only-of-type {\n",
       "        vertical-align: middle;\n",
       "    }\n",
       "\n",
       "    .dataframe tbody tr th {\n",
       "        vertical-align: top;\n",
       "    }\n",
       "\n",
       "    .dataframe thead th {\n",
       "        text-align: right;\n",
       "    }\n",
       "</style>\n",
       "<table border=\"1\" class=\"dataframe\">\n",
       "  <thead>\n",
       "    <tr style=\"text-align: right;\">\n",
       "      <th></th>\n",
       "      <th>LIMIT_BAL</th>\n",
       "      <th>SEX</th>\n",
       "      <th>EDUCATION</th>\n",
       "      <th>MARRIAGE</th>\n",
       "      <th>AGE</th>\n",
       "      <th>PAY_0</th>\n",
       "      <th>BILL_AMT1</th>\n",
       "      <th>PAY_AMT1</th>\n",
       "      <th>default.payment.next.month</th>\n",
       "    </tr>\n",
       "  </thead>\n",
       "  <tbody>\n",
       "    <tr>\n",
       "      <th>0</th>\n",
       "      <td>20000.0</td>\n",
       "      <td>0</td>\n",
       "      <td>2</td>\n",
       "      <td>1</td>\n",
       "      <td>24</td>\n",
       "      <td>0</td>\n",
       "      <td>3913.0</td>\n",
       "      <td>0.0</td>\n",
       "      <td>1</td>\n",
       "    </tr>\n",
       "    <tr>\n",
       "      <th>1</th>\n",
       "      <td>120000.0</td>\n",
       "      <td>0</td>\n",
       "      <td>2</td>\n",
       "      <td>0</td>\n",
       "      <td>26</td>\n",
       "      <td>1</td>\n",
       "      <td>2682.0</td>\n",
       "      <td>0.0</td>\n",
       "      <td>1</td>\n",
       "    </tr>\n",
       "    <tr>\n",
       "      <th>2</th>\n",
       "      <td>90000.0</td>\n",
       "      <td>0</td>\n",
       "      <td>2</td>\n",
       "      <td>0</td>\n",
       "      <td>34</td>\n",
       "      <td>1</td>\n",
       "      <td>29239.0</td>\n",
       "      <td>1518.0</td>\n",
       "      <td>0</td>\n",
       "    </tr>\n",
       "    <tr>\n",
       "      <th>3</th>\n",
       "      <td>50000.0</td>\n",
       "      <td>0</td>\n",
       "      <td>2</td>\n",
       "      <td>1</td>\n",
       "      <td>37</td>\n",
       "      <td>1</td>\n",
       "      <td>46990.0</td>\n",
       "      <td>2000.0</td>\n",
       "      <td>0</td>\n",
       "    </tr>\n",
       "    <tr>\n",
       "      <th>4</th>\n",
       "      <td>50000.0</td>\n",
       "      <td>1</td>\n",
       "      <td>2</td>\n",
       "      <td>1</td>\n",
       "      <td>57</td>\n",
       "      <td>1</td>\n",
       "      <td>8617.0</td>\n",
       "      <td>2000.0</td>\n",
       "      <td>0</td>\n",
       "    </tr>\n",
       "  </tbody>\n",
       "</table>\n",
       "</div>"
      ],
      "text/plain": [
       "   LIMIT_BAL  SEX  EDUCATION  MARRIAGE  AGE  PAY_0  BILL_AMT1  PAY_AMT1  \\\n",
       "0    20000.0    0          2         1   24      0     3913.0       0.0   \n",
       "1   120000.0    0          2         0   26      1     2682.0       0.0   \n",
       "2    90000.0    0          2         0   34      1    29239.0    1518.0   \n",
       "3    50000.0    0          2         1   37      1    46990.0    2000.0   \n",
       "4    50000.0    1          2         1   57      1     8617.0    2000.0   \n",
       "\n",
       "   default.payment.next.month  \n",
       "0                           1  \n",
       "1                           1  \n",
       "2                           0  \n",
       "3                           0  \n",
       "4                           0  "
      ]
     },
     "execution_count": 58,
     "metadata": {},
     "output_type": "execute_result"
    }
   ],
   "source": [
    "# One-hot encode the categorical columns\n",
    "one_hot_knn = pd.get_dummies(df_knn)\n",
    "one_hot_knn.head()"
   ]
  },
  {
   "cell_type": "code",
   "execution_count": 59,
   "metadata": {},
   "outputs": [],
   "source": [
    "labels = one_hot_knn['default.payment.next.month']\n",
    "one_hot_knn.drop('default.payment.next.month', axis=1, inplace=True)"
   ]
  },
  {
   "cell_type": "code",
   "execution_count": 60,
   "metadata": {},
   "outputs": [],
   "source": [
    "from sklearn.model_selection import train_test_split\n",
    "\n",
    "X_train, X_test, y_train, y_test = train_test_split(one_hot_knn, labels, test_size=0.25, random_state=42)"
   ]
  },
  {
   "cell_type": "code",
   "execution_count": 61,
   "metadata": {},
   "outputs": [
    {
     "data": {
      "text/html": [
       "<div>\n",
       "<style scoped>\n",
       "    .dataframe tbody tr th:only-of-type {\n",
       "        vertical-align: middle;\n",
       "    }\n",
       "\n",
       "    .dataframe tbody tr th {\n",
       "        vertical-align: top;\n",
       "    }\n",
       "\n",
       "    .dataframe thead th {\n",
       "        text-align: right;\n",
       "    }\n",
       "</style>\n",
       "<table border=\"1\" class=\"dataframe\">\n",
       "  <thead>\n",
       "    <tr style=\"text-align: right;\">\n",
       "      <th></th>\n",
       "      <th>LIMIT_BAL</th>\n",
       "      <th>SEX</th>\n",
       "      <th>EDUCATION</th>\n",
       "      <th>MARRIAGE</th>\n",
       "      <th>AGE</th>\n",
       "      <th>PAY_0</th>\n",
       "      <th>BILL_AMT1</th>\n",
       "      <th>PAY_AMT1</th>\n",
       "    </tr>\n",
       "  </thead>\n",
       "  <tbody>\n",
       "    <tr>\n",
       "      <th>0</th>\n",
       "      <td>1.023649</td>\n",
       "      <td>1.242733</td>\n",
       "      <td>1.448714</td>\n",
       "      <td>-0.917933</td>\n",
       "      <td>-0.487699</td>\n",
       "      <td>0.683334</td>\n",
       "      <td>0.411025</td>\n",
       "      <td>-0.096853</td>\n",
       "    </tr>\n",
       "    <tr>\n",
       "      <th>1</th>\n",
       "      <td>-1.137989</td>\n",
       "      <td>1.242733</td>\n",
       "      <td>0.186328</td>\n",
       "      <td>-0.917933</td>\n",
       "      <td>-1.245983</td>\n",
       "      <td>0.683334</td>\n",
       "      <td>-0.479349</td>\n",
       "      <td>-0.254771</td>\n",
       "    </tr>\n",
       "    <tr>\n",
       "      <th>2</th>\n",
       "      <td>-0.597580</td>\n",
       "      <td>-0.804678</td>\n",
       "      <td>0.186328</td>\n",
       "      <td>-0.917933</td>\n",
       "      <td>-0.054394</td>\n",
       "      <td>0.683334</td>\n",
       "      <td>-0.657743</td>\n",
       "      <td>-0.175195</td>\n",
       "    </tr>\n",
       "    <tr>\n",
       "      <th>3</th>\n",
       "      <td>1.023649</td>\n",
       "      <td>-0.804678</td>\n",
       "      <td>0.186328</td>\n",
       "      <td>1.089404</td>\n",
       "      <td>0.487237</td>\n",
       "      <td>-1.463414</td>\n",
       "      <td>-0.694165</td>\n",
       "      <td>-0.331937</td>\n",
       "    </tr>\n",
       "    <tr>\n",
       "      <th>4</th>\n",
       "      <td>-0.751982</td>\n",
       "      <td>-0.804678</td>\n",
       "      <td>0.186328</td>\n",
       "      <td>-0.917933</td>\n",
       "      <td>0.053932</td>\n",
       "      <td>0.683334</td>\n",
       "      <td>0.234857</td>\n",
       "      <td>-0.135642</td>\n",
       "    </tr>\n",
       "  </tbody>\n",
       "</table>\n",
       "</div>"
      ],
      "text/plain": [
       "   LIMIT_BAL       SEX  EDUCATION  MARRIAGE       AGE     PAY_0  BILL_AMT1  \\\n",
       "0   1.023649  1.242733   1.448714 -0.917933 -0.487699  0.683334   0.411025   \n",
       "1  -1.137989  1.242733   0.186328 -0.917933 -1.245983  0.683334  -0.479349   \n",
       "2  -0.597580 -0.804678   0.186328 -0.917933 -0.054394  0.683334  -0.657743   \n",
       "3   1.023649 -0.804678   0.186328  1.089404  0.487237 -1.463414  -0.694165   \n",
       "4  -0.751982 -0.804678   0.186328 -0.917933  0.053932  0.683334   0.234857   \n",
       "\n",
       "   PAY_AMT1  \n",
       "0 -0.096853  \n",
       "1 -0.254771  \n",
       "2 -0.175195  \n",
       "3 -0.331937  \n",
       "4 -0.135642  "
      ]
     },
     "execution_count": 61,
     "metadata": {},
     "output_type": "execute_result"
    }
   ],
   "source": [
    "# Import StandardScaler\n",
    "from sklearn.preprocessing import StandardScaler\n",
    "\n",
    "# Instantiate StandardScaler\n",
    "scaler = StandardScaler()\n",
    "\n",
    "# Transform the training and test sets\n",
    "scaled_data_train = scaler.fit_transform(X_train)\n",
    "scaled_data_test = scaler.transform(X_test)\n",
    "\n",
    "# Convert into a DataFrame\n",
    "scaled_df_train = pd.DataFrame(scaled_data_train, columns=one_hot_knn.columns)\n",
    "scaled_df_train.head()"
   ]
  },
  {
   "cell_type": "code",
   "execution_count": 62,
   "metadata": {},
   "outputs": [],
   "source": [
    "# Import KNeighborsClassifier\n",
    "from sklearn.neighbors import KNeighborsClassifier\n",
    "\n",
    "# Instantiate KNeighborsClassifier\n",
    "clf = KNeighborsClassifier()\n",
    "\n",
    "# Fit the classifier\n",
    "clf.fit(scaled_data_train, y_train)\n",
    "\n",
    "# Predict on the test set\n",
    "test_preds = clf.predict(scaled_data_test)"
   ]
  },
  {
   "cell_type": "code",
   "execution_count": 63,
   "metadata": {},
   "outputs": [
    {
     "name": "stdout",
     "output_type": "stream",
     "text": [
      "Precision Score: 0.4598337950138504\n",
      "Recall Score: 0.3060848186846958\n",
      "Accuracy Score: 0.7714666666666666\n",
      "F1 Score: 0.3675276752767528\n"
     ]
    }
   ],
   "source": [
    "from sklearn.metrics import precision_score, recall_score, accuracy_score, f1_score\n",
    "def print_metrics(labels, preds):\n",
    "    print(\"Precision Score: {}\".format(precision_score(labels, preds)))\n",
    "    print(\"Recall Score: {}\".format(recall_score(labels, preds)))\n",
    "    print(\"Accuracy Score: {}\".format(accuracy_score(labels, preds)))\n",
    "    print(\"F1 Score: {}\".format(f1_score(labels, preds)))\n",
    "    \n",
    "print_metrics(y_test, test_preds)"
   ]
  },
  {
   "cell_type": "code",
   "execution_count": 64,
   "metadata": {},
   "outputs": [],
   "source": [
    "def find_best_k(X_train, y_train, X_test, y_test, min_k=1, max_k=70):\n",
    "    best_k = 0\n",
    "    best_score = 0.0\n",
    "    for k in range(min_k, max_k+1, 2):\n",
    "        knn = KNeighborsClassifier(n_neighbors=k)\n",
    "        knn.fit(X_train, y_train)\n",
    "        preds = knn.predict(X_test)\n",
    "        f1 = f1_score(y_test, preds)\n",
    "        if f1 > best_score:\n",
    "            best_k = k\n",
    "            best_score = f1\n",
    "    \n",
    "    print(\"Best Value for k: {}\".format(best_k))\n",
    "    print(\"F1-Score: {}\".format(best_score))"
   ]
  },
  {
   "cell_type": "code",
   "execution_count": 65,
   "metadata": {},
   "outputs": [
    {
     "name": "stdout",
     "output_type": "stream",
     "text": [
      "Best Value for k: 55\n",
      "F1-Score: 0.4234131508931965\n"
     ]
    }
   ],
   "source": [
    "find_best_k(scaled_data_train, y_train, scaled_data_test, y_test)"
   ]
  },
  {
   "cell_type": "markdown",
   "metadata": {},
   "source": [
    "We managed to improve F1, which has its optimal value at k=55. Still less than we would like F1 to be, but it is an improvement."
   ]
  },
  {
   "cell_type": "code",
   "execution_count": 66,
   "metadata": {},
   "outputs": [
    {
     "data": {
      "text/plain": [
       "{'True Positive': 0,\n",
       " 'True Negative': 5873,\n",
       " 'False Positive': 0,\n",
       " 'False Negative': 1627}"
      ]
     },
     "execution_count": 66,
     "metadata": {},
     "output_type": "execute_result"
    }
   ],
   "source": [
    "def conf_matrix(y_true, y_pred):\n",
    "    cm = {'True Positive': 0, 'True Negative': 0, 'False Positive': 0, 'False Negative': 0}\n",
    "#iterating through predictions and labels, starting at 0, adding 1 each time it matches.    \n",
    "    for ind, label in enumerate(y_true):\n",
    "        pred = y_pred[ind]\n",
    "        if label == 1:\n",
    "            if label == pred:\n",
    "                cm['True Positive'] += 1\n",
    "            else:\n",
    "                cm['False Negative'] += 1\n",
    "        else:\n",
    "            if label == pred:\n",
    "                cm['True Negative'] += 1\n",
    "            else:\n",
    "                cm['False Positive'] += 1\n",
    "    return cm\n",
    "\n",
    "conf_matrix(y_test, y_hat_test)"
   ]
  },
  {
   "cell_type": "code",
   "execution_count": 67,
   "metadata": {},
   "outputs": [
    {
     "name": "stdout",
     "output_type": "stream",
     "text": [
      "Confusion Matrix:\n",
      " [[5873    0]\n",
      " [1627    0]]\n"
     ]
    }
   ],
   "source": [
    "from sklearn.metrics import confusion_matrix\n",
    "\n",
    "# Print confusion matrix\n",
    "cnf_matrix = confusion_matrix(y_test, y_hat_test)\n",
    "print('Confusion Matrix:\\n', cnf_matrix)"
   ]
  },
  {
   "cell_type": "code",
   "execution_count": 68,
   "metadata": {},
   "outputs": [
    {
     "data": {
      "image/png": "[encoded data removed]",
      "text/plain": [
       "<Figure size 432x288 with 2 Axes>"
      ]
     },
     "metadata": {
      "needs_background": "light"
     },
     "output_type": "display_data"
    }
   ],
   "source": [
    "from sklearn.metrics import plot_confusion_matrix\n",
    "plot_confusion_matrix(logreg, X_test, y_test,\n",
    "                     cmap=plt.cm.Blues)\n",
    "plt.show()"
   ]
  },
  {
   "cell_type": "code",
   "execution_count": 69,
   "metadata": {},
   "outputs": [
    {
     "data": {
      "text/plain": [
       "(30000, 25)"
      ]
     },
     "execution_count": 69,
     "metadata": {},
     "output_type": "execute_result"
    }
   ],
   "source": [
    "cart_tree=df = pd.read_csv('UCI_Credit_Card.csv')\n",
    "cart_tree.shape"
   ]
  },
  {
   "cell_type": "markdown",
   "metadata": {},
   "source": [
    "The KNN model is an improvement over the logistic regression, but our metrics still leave a lot to be desired. Next is a tree ensemble attempt."
   ]
  },
  {
   "cell_type": "code",
   "execution_count": 70,
   "metadata": {},
   "outputs": [],
   "source": [
    "# Split into training/test sets\n",
    "X = cart_tree.drop('default.payment.next.month', axis=1)  \n",
    "y = cart_tree['default.payment.next.month']  \n",
    "X_train, X_test, y_train, y_test = train_test_split(X, y, test_size=0.2, random_state=25)"
   ]
  },
  {
   "cell_type": "code",
   "execution_count": 71,
   "metadata": {},
   "outputs": [
    {
     "data": {
      "text/plain": [
       "DecisionTreeRegressor(random_state=25)"
      ]
     },
     "execution_count": 71,
     "metadata": {},
     "output_type": "execute_result"
    }
   ],
   "source": [
    "from sklearn.tree import DecisionTreeRegressor  \n",
    "\n",
    "regressor = DecisionTreeRegressor(random_state=25)  \n",
    "regressor.fit(X_train, y_train)"
   ]
  },
  {
   "cell_type": "code",
   "execution_count": 72,
   "metadata": {},
   "outputs": [
    {
     "name": "stdout",
     "output_type": "stream",
     "text": [
      "Mean Absolute Error: 0.2745\n",
      "Mean Squared Error: 0.2745\n",
      "Root Mean Squared Error: 0.5239274758971895\n"
     ]
    }
   ],
   "source": [
    "from sklearn.metrics import mean_absolute_error, mean_squared_error\n",
    "\n",
    "y_pred = regressor.predict(X_test) \n",
    "\n",
    "print('Mean Absolute Error:', mean_absolute_error(y_test, y_pred))  \n",
    "print('Mean Squared Error:', mean_squared_error(y_test, y_pred))  \n",
    "print('Root Mean Squared Error:', np.sqrt(mean_squared_error(y_test, y_pred)))"
   ]
  },
  {
   "cell_type": "code",
   "execution_count": 73,
   "metadata": {},
   "outputs": [],
   "source": [
    "from sklearn.tree import DecisionTreeClassifier\n",
    "from sklearn.ensemble import BaggingClassifier, RandomForestClassifier\n",
    "tree_ensembles = pd.read_csv('UCI_Credit_Card.csv', index_col=0)"
   ]
  },
  {
   "cell_type": "code",
   "execution_count": 74,
   "metadata": {},
   "outputs": [],
   "source": [
    "target = tree_ensembles['default.payment.next.month']\n",
    "tree_ensembles = tree_ensembles.drop('default.payment.next.month', axis=1)"
   ]
  },
  {
   "cell_type": "code",
   "execution_count": 75,
   "metadata": {},
   "outputs": [],
   "source": [
    "tree_ensembles_dummies = pd.get_dummies('EDUCATION')"
   ]
  },
  {
   "cell_type": "code",
   "execution_count": 76,
   "metadata": {},
   "outputs": [],
   "source": [
    "data_train, data_test, target_train, target_test = train_test_split(tree_ensembles, target, test_size = 0.25, random_state=123)"
   ]
  },
  {
   "cell_type": "code",
   "execution_count": 77,
   "metadata": {},
   "outputs": [
    {
     "data": {
      "text/plain": [
       "DecisionTreeClassifier(max_depth=5)"
      ]
     },
     "execution_count": 77,
     "metadata": {},
     "output_type": "execute_result"
    }
   ],
   "source": [
    "tree_clf = DecisionTreeClassifier(criterion='gini', max_depth=5) \n",
    "tree_clf.fit(data_train, target_train)"
   ]
  },
  {
   "cell_type": "code",
   "execution_count": 78,
   "metadata": {},
   "outputs": [
    {
     "data": {
      "text/plain": [
       "array([0.0074053 , 0.        , 0.00322   , 0.        , 0.01078222,\n",
       "       0.67973144, 0.14100265, 0.01212656, 0.03403858, 0.        ,\n",
       "       0.01926009, 0.01875117, 0.        , 0.00369387, 0.00427617,\n",
       "       0.        , 0.00191355, 0.        , 0.05030846, 0.        ,\n",
       "       0.01348994, 0.        , 0.        ])"
      ]
     },
     "execution_count": 78,
     "metadata": {},
     "output_type": "execute_result"
    }
   ],
   "source": [
    "tree_clf.feature_importances_"
   ]
  },
  {
   "cell_type": "code",
   "execution_count": 79,
   "metadata": {},
   "outputs": [
    {
     "data": {
      "image/png": "[encoded data removed]",
      "text/plain": [
       "<Figure size 504x432 with 1 Axes>"
      ]
     },
     "metadata": {
      "needs_background": "light"
     },
     "output_type": "display_data"
    }
   ],
   "source": [
    "def plot_feature_importances(model):\n",
    "    n_features = data_train.shape[1]\n",
    "    plt.figure(figsize=(7,6))\n",
    "    plt.barh(range(n_features), model.feature_importances_, align='center') \n",
    "    plt.yticks(np.arange(n_features), data_train.columns.values) \n",
    "    plt.xlabel('Feature importance')\n",
    "    plt.ylabel('Feature')\n",
    "\n",
    "plot_feature_importances(tree_clf)"
   ]
  },
  {
   "cell_type": "markdown",
   "metadata": {},
   "source": [
    "It looks like PAY_0 is the most important feature by a wide margin."
   ]
  },
  {
   "cell_type": "code",
   "execution_count": 80,
   "metadata": {},
   "outputs": [
    {
     "name": "stdout",
     "output_type": "stream",
     "text": [
      "[[5553  320]\n",
      " [1025  602]]\n",
      "              precision    recall  f1-score   support\n",
      "\n",
      "           0       0.84      0.95      0.89      5873\n",
      "           1       0.65      0.37      0.47      1627\n",
      "\n",
      "    accuracy                           0.82      7500\n",
      "   macro avg       0.75      0.66      0.68      7500\n",
      "weighted avg       0.80      0.82      0.80      7500\n",
      "\n"
     ]
    }
   ],
   "source": [
    "from sklearn.metrics import accuracy_score, confusion_matrix, classification_report\n",
    "\n",
    "pred = tree_clf.predict(data_test)\n",
    "\n",
    "print(confusion_matrix(target_test, pred))\n",
    "print(classification_report(target_test, pred))"
   ]
  },
  {
   "cell_type": "code",
   "execution_count": 81,
   "metadata": {},
   "outputs": [
    {
     "name": "stdout",
     "output_type": "stream",
     "text": [
      "Testing Accuracy for Decision Tree Classifier: 82.07%\n"
     ]
    }
   ],
   "source": [
    "print(\"Testing Accuracy for Decision Tree Classifier: {:.4}%\".format(accuracy_score(target_test, pred) * 100))"
   ]
  },
  {
   "cell_type": "markdown",
   "metadata": {},
   "source": [
    "This is the highest accuracy we have had so far."
   ]
  },
  {
   "cell_type": "code",
   "execution_count": 82,
   "metadata": {},
   "outputs": [
    {
     "data": {
      "text/plain": [
       "BaggingClassifier(base_estimator=DecisionTreeClassifier(max_depth=5),\n",
       "                  n_estimators=20)"
      ]
     },
     "execution_count": 82,
     "metadata": {},
     "output_type": "execute_result"
    }
   ],
   "source": [
    "#Instantiating a bagging classifier and then fitting to training data.\n",
    "bagged_tree =  BaggingClassifier(DecisionTreeClassifier(criterion='gini', max_depth=5), \n",
    "                                 n_estimators=20)\n",
    "bagged_tree.fit(data_train, target_train)"
   ]
  },
  {
   "cell_type": "code",
   "execution_count": 83,
   "metadata": {},
   "outputs": [
    {
     "data": {
      "text/plain": [
       "0.8259555555555556"
      ]
     },
     "execution_count": 83,
     "metadata": {},
     "output_type": "execute_result"
    }
   ],
   "source": [
    "bagged_tree.score(data_train, target_train)"
   ]
  },
  {
   "cell_type": "code",
   "execution_count": 84,
   "metadata": {},
   "outputs": [
    {
     "data": {
      "text/plain": [
       "0.8230666666666666"
      ]
     },
     "execution_count": 84,
     "metadata": {},
     "output_type": "execute_result"
    }
   ],
   "source": [
    "bagged_tree.score(data_test, target_test)"
   ]
  }
 ],
 "metadata": {
  "kernelspec": {
   "display_name": "Python 3",
   "language": "python",
   "name": "python3"
  },
  "language_info": {
   "codemirror_mode": {
    "name": "ipython",
    "version": 3
   },
   "file_extension": ".py",
   "mimetype": "text/x-python",
   "name": "python",
   "nbconvert_exporter": "python",
   "pygments_lexer": "ipython3",
   "version": "3.8.3"
  }
 },
 "nbformat": 4,
 "nbformat_minor": 4
}
